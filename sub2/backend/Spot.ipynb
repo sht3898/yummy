{
 "cells": [
  {
   "cell_type": "code",
   "execution_count": 46,
   "metadata": {},
   "outputs": [],
   "source": [
    "import json\n",
    "import pickle\n",
    "import sqlite3\n",
    "import pandas as pd\n",
    "import numpy as np\n",
    "import sklearn\n",
    "from sklearn.metrics.pairwise import cosine_similarity, linear_kernel\n",
    "from sklearn.feature_extraction.text import TfidfVectorizer\n",
    "from konlpy.tag import Kkma\n",
    "from konlpy.tag import Okt\n",
    "from konlpy.utils import pprint"
   ]
  },
  {
   "cell_type": "code",
   "execution_count": 2,
   "metadata": {},
   "outputs": [],
   "source": [
    "con = sqlite3.connect(\"db.sqlite3\")\n",
    "cur = con.cursor()\n",
    "# read table \n",
    "df_spot = pd.read_sql_query(\"SELECT * from api_spot\", con)\n",
    "\n",
    "# clonse DB connection\n",
    "con.close()"
   ]
  },
  {
   "cell_type": "code",
   "execution_count": 3,
   "metadata": {},
   "outputs": [
    {
     "data": {
      "text/html": [
       "<div>\n",
       "<style scoped>\n",
       "    .dataframe tbody tr th:only-of-type {\n",
       "        vertical-align: middle;\n",
       "    }\n",
       "\n",
       "    .dataframe tbody tr th {\n",
       "        vertical-align: top;\n",
       "    }\n",
       "\n",
       "    .dataframe thead th {\n",
       "        text-align: right;\n",
       "    }\n",
       "</style>\n",
       "<table border=\"1\" class=\"dataframe\">\n",
       "  <thead>\n",
       "    <tr style=\"text-align: right;\">\n",
       "      <th></th>\n",
       "      <th>id</th>\n",
       "      <th>spot_name</th>\n",
       "      <th>spot_type</th>\n",
       "      <th>address</th>\n",
       "      <th>latitude</th>\n",
       "      <th>longitude</th>\n",
       "      <th>description</th>\n",
       "      <th>overview</th>\n",
       "      <th>image_url</th>\n",
       "    </tr>\n",
       "  </thead>\n",
       "  <tbody>\n",
       "    <tr>\n",
       "      <th>0</th>\n",
       "      <td>125266</td>\n",
       "      <td>국립 청태산자연휴양림</td>\n",
       "      <td>자연관광지</td>\n",
       "      <td>강원 횡성군 둔내면 삽교리 산 1-4</td>\n",
       "      <td>37.522514</td>\n",
       "      <td>128.291912</td>\n",
       "      <td>유모차 대여정보 : 불가&lt;br&gt;신용카드가능 정보 : 없음&lt;br&gt;애완동물 동반가능 정...</td>\n",
       "      <td>해발 1,200m의 청태산을 주봉으로 하여 인공림과 천연림이 잘 조화된 울창한 산림...</td>\n",
       "      <td>http://tong.visitkorea.or.kr/cms/resource/65/6...</td>\n",
       "    </tr>\n",
       "    <tr>\n",
       "      <th>1</th>\n",
       "      <td>125405</td>\n",
       "      <td>토함산자연휴양림</td>\n",
       "      <td>자연관광지</td>\n",
       "      <td>경북 경주시 양북면 장항리 산 599-1</td>\n",
       "      <td>35.757328</td>\n",
       "      <td>129.370895</td>\n",
       "      <td>유모차 대여정보 : 불가&lt;br&gt;신용카드가능 정보 : 가능&lt;br&gt;애완동물 동반가능 정...</td>\n",
       "      <td>&lt;b&gt;※ 코로나바이러스감염증-19 공지사항&lt;br&gt;※ 내용 : 임시휴관 (2020.3...</td>\n",
       "      <td>http://tong.visitkorea.or.kr/cms/resource/40/2...</td>\n",
       "    </tr>\n",
       "    <tr>\n",
       "      <th>2</th>\n",
       "      <td>125406</td>\n",
       "      <td>비슬산자연휴양림</td>\n",
       "      <td>자연관광지</td>\n",
       "      <td>대구광역시 달성군 유가면 휴양림길 230(유가면)</td>\n",
       "      <td>35.691380</td>\n",
       "      <td>128.515977</td>\n",
       "      <td>유모차 대여정보 : 없음&lt;br&gt;신용카드가능 정보 : 불가&lt;br&gt;애완동물 동반가능 정...</td>\n",
       "      <td>* 자연경관 안에서 얻는 휴식, 비슬산자연휴양림 *&lt;br /&gt;\\n비슬산 자연휴양림은...</td>\n",
       "      <td>http://tong.visitkorea.or.kr/cms/resource/62/2...</td>\n",
       "    </tr>\n",
       "    <tr>\n",
       "      <th>3</th>\n",
       "      <td>125407</td>\n",
       "      <td>불정자연휴양림</td>\n",
       "      <td>자연관광지</td>\n",
       "      <td>경상북도 문경시 불정길 180(불정동)</td>\n",
       "      <td>36.618826</td>\n",
       "      <td>128.134266</td>\n",
       "      <td>유모차 대여정보 : 없음&lt;br&gt;신용카드가능 정보 : 없음&lt;br&gt;애완동물 동반가능 정...</td>\n",
       "      <td>* 레포츠와 휴식을 동시에, 불정자연휴양림 *&lt;br&gt; \\n불정자연휴양림은 경북 문경...</td>\n",
       "      <td>http://tong.visitkorea.or.kr/cms/resource/83/1...</td>\n",
       "    </tr>\n",
       "    <tr>\n",
       "      <th>4</th>\n",
       "      <td>125408</td>\n",
       "      <td>청송 자연휴양림 퇴적층 (청송 국가지질공원)</td>\n",
       "      <td>자연관광지</td>\n",
       "      <td>경상북도 청송군 부남면 청송로 3478-96(부남면)</td>\n",
       "      <td>36.317919</td>\n",
       "      <td>129.053721</td>\n",
       "      <td>유모차 대여정보 : 없음&lt;br&gt;신용카드가능 정보 : 없음&lt;br&gt;애완동물 동반가능 정...</td>\n",
       "      <td>청송자연휴양림 퇴적암층은 상쾌한 공기와 수려한 경관을 모두 갖춘 지질명소이다. 다양...</td>\n",
       "      <td>http://tong.visitkorea.or.kr/cms/resource/48/2...</td>\n",
       "    </tr>\n",
       "  </tbody>\n",
       "</table>\n",
       "</div>"
      ],
      "text/plain": [
       "       id                 spot_name spot_type                        address  \\\n",
       "0  125266               국립 청태산자연휴양림     자연관광지           강원 횡성군 둔내면 삽교리 산 1-4   \n",
       "1  125405                  토함산자연휴양림     자연관광지         경북 경주시 양북면 장항리 산 599-1   \n",
       "2  125406                  비슬산자연휴양림     자연관광지    대구광역시 달성군 유가면 휴양림길 230(유가면)   \n",
       "3  125407                   불정자연휴양림     자연관광지          경상북도 문경시 불정길 180(불정동)   \n",
       "4  125408  청송 자연휴양림 퇴적층 (청송 국가지질공원)     자연관광지  경상북도 청송군 부남면 청송로 3478-96(부남면)   \n",
       "\n",
       "    latitude   longitude                                        description  \\\n",
       "0  37.522514  128.291912  유모차 대여정보 : 불가<br>신용카드가능 정보 : 없음<br>애완동물 동반가능 정...   \n",
       "1  35.757328  129.370895  유모차 대여정보 : 불가<br>신용카드가능 정보 : 가능<br>애완동물 동반가능 정...   \n",
       "2  35.691380  128.515977  유모차 대여정보 : 없음<br>신용카드가능 정보 : 불가<br>애완동물 동반가능 정...   \n",
       "3  36.618826  128.134266  유모차 대여정보 : 없음<br>신용카드가능 정보 : 없음<br>애완동물 동반가능 정...   \n",
       "4  36.317919  129.053721  유모차 대여정보 : 없음<br>신용카드가능 정보 : 없음<br>애완동물 동반가능 정...   \n",
       "\n",
       "                                            overview  \\\n",
       "0  해발 1,200m의 청태산을 주봉으로 하여 인공림과 천연림이 잘 조화된 울창한 산림...   \n",
       "1  <b>※ 코로나바이러스감염증-19 공지사항<br>※ 내용 : 임시휴관 (2020.3...   \n",
       "2  * 자연경관 안에서 얻는 휴식, 비슬산자연휴양림 *<br />\\n비슬산 자연휴양림은...   \n",
       "3  * 레포츠와 휴식을 동시에, 불정자연휴양림 *<br> \\n불정자연휴양림은 경북 문경...   \n",
       "4  청송자연휴양림 퇴적암층은 상쾌한 공기와 수려한 경관을 모두 갖춘 지질명소이다. 다양...   \n",
       "\n",
       "                                           image_url  \n",
       "0  http://tong.visitkorea.or.kr/cms/resource/65/6...  \n",
       "1  http://tong.visitkorea.or.kr/cms/resource/40/2...  \n",
       "2  http://tong.visitkorea.or.kr/cms/resource/62/2...  \n",
       "3  http://tong.visitkorea.or.kr/cms/resource/83/1...  \n",
       "4  http://tong.visitkorea.or.kr/cms/resource/48/2...  "
      ]
     },
     "execution_count": 3,
     "metadata": {},
     "output_type": "execute_result"
    }
   ],
   "source": [
    "df_spot.head()"
   ]
  },
  {
   "cell_type": "code",
   "execution_count": 4,
   "metadata": {},
   "outputs": [],
   "source": [
    "pd.options.mode.chained_assignment = None\n",
    "spots = df_spot[['id', 'overview']]\n",
    "spots.rename(columns={'id':'spot_id'}, inplace=True)"
   ]
  },
  {
   "cell_type": "code",
   "execution_count": 5,
   "metadata": {},
   "outputs": [
    {
     "data": {
      "text/html": [
       "<div>\n",
       "<style scoped>\n",
       "    .dataframe tbody tr th:only-of-type {\n",
       "        vertical-align: middle;\n",
       "    }\n",
       "\n",
       "    .dataframe tbody tr th {\n",
       "        vertical-align: top;\n",
       "    }\n",
       "\n",
       "    .dataframe thead th {\n",
       "        text-align: right;\n",
       "    }\n",
       "</style>\n",
       "<table border=\"1\" class=\"dataframe\">\n",
       "  <thead>\n",
       "    <tr style=\"text-align: right;\">\n",
       "      <th></th>\n",
       "      <th>spot_id</th>\n",
       "      <th>overview</th>\n",
       "    </tr>\n",
       "  </thead>\n",
       "  <tbody>\n",
       "    <tr>\n",
       "      <th>0</th>\n",
       "      <td>125266</td>\n",
       "      <td>해발 1,200m의 청태산을 주봉으로 하여 인공림과 천연림이 잘 조화된 울창한 산림...</td>\n",
       "    </tr>\n",
       "    <tr>\n",
       "      <th>1</th>\n",
       "      <td>125405</td>\n",
       "      <td>&lt;b&gt;※ 코로나바이러스감염증-19 공지사항&lt;br&gt;※ 내용 : 임시휴관 (2020.3...</td>\n",
       "    </tr>\n",
       "    <tr>\n",
       "      <th>2</th>\n",
       "      <td>125406</td>\n",
       "      <td>* 자연경관 안에서 얻는 휴식, 비슬산자연휴양림 *&lt;br /&gt;\\n비슬산 자연휴양림은...</td>\n",
       "    </tr>\n",
       "    <tr>\n",
       "      <th>3</th>\n",
       "      <td>125407</td>\n",
       "      <td>* 레포츠와 휴식을 동시에, 불정자연휴양림 *&lt;br&gt; \\n불정자연휴양림은 경북 문경...</td>\n",
       "    </tr>\n",
       "    <tr>\n",
       "      <th>4</th>\n",
       "      <td>125408</td>\n",
       "      <td>청송자연휴양림 퇴적암층은 상쾌한 공기와 수려한 경관을 모두 갖춘 지질명소이다. 다양...</td>\n",
       "    </tr>\n",
       "  </tbody>\n",
       "</table>\n",
       "</div>"
      ],
      "text/plain": [
       "   spot_id                                           overview\n",
       "0   125266  해발 1,200m의 청태산을 주봉으로 하여 인공림과 천연림이 잘 조화된 울창한 산림...\n",
       "1   125405  <b>※ 코로나바이러스감염증-19 공지사항<br>※ 내용 : 임시휴관 (2020.3...\n",
       "2   125406  * 자연경관 안에서 얻는 휴식, 비슬산자연휴양림 *<br />\\n비슬산 자연휴양림은...\n",
       "3   125407  * 레포츠와 휴식을 동시에, 불정자연휴양림 *<br> \\n불정자연휴양림은 경북 문경...\n",
       "4   125408  청송자연휴양림 퇴적암층은 상쾌한 공기와 수려한 경관을 모두 갖춘 지질명소이다. 다양..."
      ]
     },
     "execution_count": 5,
     "metadata": {},
     "output_type": "execute_result"
    }
   ],
   "source": [
    "spots.head()"
   ]
  },
  {
   "cell_type": "code",
   "execution_count": 12,
   "metadata": {},
   "outputs": [],
   "source": [
    "okt = Okt()"
   ]
  },
  {
   "cell_type": "code",
   "execution_count": null,
   "metadata": {},
   "outputs": [],
   "source": [
    "okt.nouns(spots['overview'][0])"
   ]
  },
  {
   "cell_type": "code",
   "execution_count": 31,
   "metadata": {},
   "outputs": [],
   "source": [
    "nouns = []\n",
    "for _, spot in spots.iterrows():\n",
    "    temp = okt.nouns(spot['overview'])\n",
    "    words = ''\n",
    "    for t in temp:\n",
    "        words += t + ' '\n",
    "    nouns.append([spot['spot_id'], words[:-1]])"
   ]
  },
  {
   "cell_type": "code",
   "execution_count": 32,
   "metadata": {
    "scrolled": false
   },
   "outputs": [],
   "source": [
    "nouns_frame = pd.DataFrame(nouns, columns=[\"spot_id\", \"description\"])"
   ]
  },
  {
   "cell_type": "code",
   "execution_count": 35,
   "metadata": {
    "scrolled": true
   },
   "outputs": [
    {
     "data": {
      "text/html": [
       "<div>\n",
       "<style scoped>\n",
       "    .dataframe tbody tr th:only-of-type {\n",
       "        vertical-align: middle;\n",
       "    }\n",
       "\n",
       "    .dataframe tbody tr th {\n",
       "        vertical-align: top;\n",
       "    }\n",
       "\n",
       "    .dataframe thead th {\n",
       "        text-align: right;\n",
       "    }\n",
       "</style>\n",
       "<table border=\"1\" class=\"dataframe\">\n",
       "  <thead>\n",
       "    <tr style=\"text-align: right;\">\n",
       "      <th></th>\n",
       "      <th>spot_id</th>\n",
       "      <th>description</th>\n",
       "    </tr>\n",
       "  </thead>\n",
       "  <tbody>\n",
       "    <tr>\n",
       "      <th>0</th>\n",
       "      <td>125266</td>\n",
       "      <td>해발 의 청 태산 봉 인공 림 림 조화 울창 산림 바탕 국 유림 경영 시범 단지 로...</td>\n",
       "    </tr>\n",
       "    <tr>\n",
       "      <th>1</th>\n",
       "      <td>125405</td>\n",
       "      <td>코로나바이러스 감염증 공지 사항 내용 임시 관 미정 여행 정보 변동 사항 페이지 이...</td>\n",
       "    </tr>\n",
       "    <tr>\n",
       "      <th>2</th>\n",
       "      <td>125406</td>\n",
       "      <td>자연 경관 안 휴식 비슬산 자연휴양림 비슬산 자연휴양림 대견봉 중심 좌우 조화 봉 ...</td>\n",
       "    </tr>\n",
       "    <tr>\n",
       "      <th>3</th>\n",
       "      <td>125407</td>\n",
       "      <td>레포츠 휴식 동시 불정 자연휴양림 불정 자연휴양림 경북 문경 불정동 마을 안쪽 위치...</td>\n",
       "    </tr>\n",
       "    <tr>\n",
       "      <th>4</th>\n",
       "      <td>125408</td>\n",
       "      <td>청송 자연휴양림 퇴적암 층 공기 수려 경관 모두 지질 명소 코스 산책로 개설 탐방 ...</td>\n",
       "    </tr>\n",
       "  </tbody>\n",
       "</table>\n",
       "</div>"
      ],
      "text/plain": [
       "   spot_id                                        description\n",
       "0   125266  해발 의 청 태산 봉 인공 림 림 조화 울창 산림 바탕 국 유림 경영 시범 단지 로...\n",
       "1   125405  코로나바이러스 감염증 공지 사항 내용 임시 관 미정 여행 정보 변동 사항 페이지 이...\n",
       "2   125406  자연 경관 안 휴식 비슬산 자연휴양림 비슬산 자연휴양림 대견봉 중심 좌우 조화 봉 ...\n",
       "3   125407  레포츠 휴식 동시 불정 자연휴양림 불정 자연휴양림 경북 문경 불정동 마을 안쪽 위치...\n",
       "4   125408  청송 자연휴양림 퇴적암 층 공기 수려 경관 모두 지질 명소 코스 산책로 개설 탐방 ..."
      ]
     },
     "execution_count": 35,
     "metadata": {},
     "output_type": "execute_result"
    }
   ],
   "source": [
    "nouns_frame.head()"
   ]
  },
  {
   "cell_type": "code",
   "execution_count": 39,
   "metadata": {},
   "outputs": [],
   "source": [
    "nouns_frame.to_pickle('./spot.pkl')"
   ]
  },
  {
   "cell_type": "code",
   "execution_count": 6,
   "metadata": {},
   "outputs": [],
   "source": [
    "okt_frame = pd.read_pickle('./spot.pkl')"
   ]
  },
  {
   "cell_type": "code",
   "execution_count": 7,
   "metadata": {
    "scrolled": true
   },
   "outputs": [
    {
     "data": {
      "text/plain": [
       "spot_id         int64\n",
       "description    object\n",
       "dtype: object"
      ]
     },
     "execution_count": 7,
     "metadata": {},
     "output_type": "execute_result"
    }
   ],
   "source": [
    "okt_frame.dtypes"
   ]
  },
  {
   "cell_type": "code",
   "execution_count": 8,
   "metadata": {},
   "outputs": [],
   "source": [
    "tf = TfidfVectorizer(min_df=0)\n",
    "tfidf_matrix = tf.fit_transform(okt_frame['description'])"
   ]
  },
  {
   "cell_type": "code",
   "execution_count": 9,
   "metadata": {},
   "outputs": [],
   "source": [
    "cosine_similarities = linear_kernel(tfidf_matrix, tfidf_matrix)"
   ]
  },
  {
   "cell_type": "code",
   "execution_count": 39,
   "metadata": {},
   "outputs": [],
   "source": [
    "results = {}\n",
    "for idx, row in okt_frame.iterrows():\n",
    "   similar_indices = cosine_similarities[idx].argsort()[:-100:-1] \n",
    "   similar_items = [(cosine_similarities[idx][i], okt_frame['spot_id'][i]) for i in similar_indices] \n",
    "   results[row['spot_id']] = similar_items[1:]"
   ]
  },
  {
   "cell_type": "code",
   "execution_count": 98,
   "metadata": {
    "scrolled": true
   },
   "outputs": [
    {
     "data": {
      "text/plain": [
       "125266"
      ]
     },
     "execution_count": 98,
     "metadata": {},
     "output_type": "execute_result"
    }
   ],
   "source": [
    "okt_frame.loc[okt_frame['spot_id'] == 125266]['spot_id'][0]"
   ]
  },
  {
   "cell_type": "code",
   "execution_count": 34,
   "metadata": {},
   "outputs": [
    {
     "data": {
      "text/plain": [
       "list"
      ]
     },
     "execution_count": 34,
     "metadata": {},
     "output_type": "execute_result"
    }
   ],
   "source": [
    "type(results['125266'])"
   ]
  },
  {
   "cell_type": "code",
   "execution_count": 47,
   "metadata": {
    "scrolled": true
   },
   "outputs": [],
   "source": [
    "with open('spot_result.pickle', 'wb') as f:\n",
    "    pickle.dump(results, f)"
   ]
  },
  {
   "cell_type": "code",
   "execution_count": 48,
   "metadata": {},
   "outputs": [],
   "source": [
    "with open('spot_result.pickle', 'rb') as f:\n",
    "    results = pickle.load(f)"
   ]
  },
  {
   "cell_type": "code",
   "execution_count": 50,
   "metadata": {},
   "outputs": [],
   "source": [
    "def item(id):\n",
    "    return okt_frame.loc[okt_frame['spot_id'] == id]['spot_id'].to_string().split()[1]\n",
    "\n",
    "# Just reads the results out of the dictionary.\n",
    "def recommend(spot_id, num):\n",
    "    print(\"Recommending \" + str(num) + \" products similar to \" + item(spot_id) + \"...\")   \n",
    "    print(\"-------\")    \n",
    "    recs = results[spot_id][:num]\n",
    "    rec_list = []\n",
    "    for rec in recs: \n",
    "        print(\"Recommended: \" + item(rec[1]) + \" (score:\" +      str(rec[0]) + \")\")\n",
    "        rec_list.append(item(rec[1]))\n",
    "    return rec_list"
   ]
  },
  {
   "cell_type": "code",
   "execution_count": 51,
   "metadata": {},
   "outputs": [
    {
     "data": {
      "text/plain": [
       "'125266'"
      ]
     },
     "execution_count": 51,
     "metadata": {},
     "output_type": "execute_result"
    }
   ],
   "source": [
    "okt_frame.loc[okt_frame['spot_id'] == 125266]['spot_id'].to_string().split()[1]\n"
   ]
  },
  {
   "cell_type": "code",
   "execution_count": 52,
   "metadata": {
    "scrolled": false
   },
   "outputs": [
    {
     "name": "stdout",
     "output_type": "stream",
     "text": [
      "Recommending 5 products similar to 125266...\n",
      "-------\n",
      "Recommended: 127477 (score:0.21025359498473606)\n",
      "Recommended: 126773 (score:0.2016832488828783)\n",
      "Recommended: 337517 (score:0.1972319257223753)\n",
      "Recommended: 2436209 (score:0.1842840865635572)\n",
      "Recommended: 127821 (score:0.17815608572636613)\n"
     ]
    }
   ],
   "source": [
    "rec_list = recommend(spot_id=125266, num=5)"
   ]
  },
  {
   "cell_type": "code",
   "execution_count": 53,
   "metadata": {
    "scrolled": false
   },
   "outputs": [
    {
     "name": "stdout",
     "output_type": "stream",
     "text": [
      "군위 장곡자연휴양림\n",
      "주천강자연휴양림\n",
      "국립횡성숲체원\n",
      "안동호반자연휴양림\n",
      "금강자연휴양림(금강수목원,산림박물관)\n"
     ]
    }
   ],
   "source": [
    "for rec in rec_list:\n",
    "    print(' '.join(df_spot.loc[df_spot['id'] == int(rec)]['spot_name'].to_string().split()[1:]))"
   ]
  }
 ],
 "metadata": {
  "kernelspec": {
   "display_name": "Python 3",
   "language": "python",
   "name": "python3"
  },
  "language_info": {
   "codemirror_mode": {
    "name": "ipython",
    "version": 3
   },
   "file_extension": ".py",
   "mimetype": "text/x-python",
   "name": "python",
   "nbconvert_exporter": "python",
   "pygments_lexer": "ipython3",
   "version": "3.7.6"
  }
 },
 "nbformat": 4,
 "nbformat_minor": 4
}
