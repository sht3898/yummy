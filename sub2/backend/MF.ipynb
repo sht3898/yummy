{
 "cells": [
  {
   "cell_type": "code",
   "execution_count": 4,
   "metadata": {},
   "outputs": [],
   "source": [
    "import sqlite3\n",
    "import pandas as pd"
   ]
  },
  {
   "cell_type": "markdown",
   "metadata": {},
   "source": [
    "### sqlite3 db to Dataframe"
   ]
  },
  {
   "cell_type": "code",
   "execution_count": 5,
   "metadata": {},
   "outputs": [],
   "source": [
    "con = sqlite3.connect(\"db.sqlite3\")\n",
    "cur = con.cursor()"
   ]
  },
  {
   "cell_type": "code",
   "execution_count": 6,
   "metadata": {},
   "outputs": [],
   "source": [
    "df_store = pd.read_sql_query(\"SELECT * from api_store\", con)\n",
    "df_review = pd.read_sql_query(\"SELECT * from api_storereview\", con)"
   ]
  },
  {
   "cell_type": "code",
   "execution_count": 7,
   "metadata": {
    "scrolled": true
   },
   "outputs": [
    {
     "data": {
      "text/html": [
       "<div>\n",
       "<style scoped>\n",
       "    .dataframe tbody tr th:only-of-type {\n",
       "        vertical-align: middle;\n",
       "    }\n",
       "\n",
       "    .dataframe tbody tr th {\n",
       "        vertical-align: top;\n",
       "    }\n",
       "\n",
       "    .dataframe thead th {\n",
       "        text-align: right;\n",
       "    }\n",
       "</style>\n",
       "<table border=\"1\" class=\"dataframe\">\n",
       "  <thead>\n",
       "    <tr style=\"text-align: right;\">\n",
       "      <th></th>\n",
       "      <th>id</th>\n",
       "      <th>store_name</th>\n",
       "      <th>branch</th>\n",
       "      <th>area</th>\n",
       "      <th>tel</th>\n",
       "      <th>address</th>\n",
       "      <th>latitude</th>\n",
       "      <th>longitude</th>\n",
       "      <th>category</th>\n",
       "      <th>review_count</th>\n",
       "      <th>review_total_score</th>\n",
       "    </tr>\n",
       "  </thead>\n",
       "  <tbody>\n",
       "    <tr>\n",
       "      <th>0</th>\n",
       "      <td>1</td>\n",
       "      <td>Agal</td>\n",
       "      <td>None</td>\n",
       "      <td>홍대</td>\n",
       "      <td>010-6689-5886</td>\n",
       "      <td>서울특별시 마포구 동교동 170-13</td>\n",
       "      <td>37.556862</td>\n",
       "      <td>126.926666</td>\n",
       "      <td>아구찜|포장마차</td>\n",
       "      <td>0</td>\n",
       "      <td>0</td>\n",
       "    </tr>\n",
       "    <tr>\n",
       "      <th>1</th>\n",
       "      <td>2</td>\n",
       "      <td>Assisy</td>\n",
       "      <td>None</td>\n",
       "      <td>광주</td>\n",
       "      <td>062-367-0700</td>\n",
       "      <td>광주광역시 서구 농성동 631-33</td>\n",
       "      <td>35.150746</td>\n",
       "      <td>126.890062</td>\n",
       "      <td>카페</td>\n",
       "      <td>0</td>\n",
       "      <td>0</td>\n",
       "    </tr>\n",
       "    <tr>\n",
       "      <th>2</th>\n",
       "      <td>3</td>\n",
       "      <td>Battered Sole</td>\n",
       "      <td>None</td>\n",
       "      <td>이태원</td>\n",
       "      <td>02-749-6867</td>\n",
       "      <td>서울특별시 용산구 이태원동 118-9</td>\n",
       "      <td>37.535032</td>\n",
       "      <td>126.991664</td>\n",
       "      <td>피쉬앤칩스|펍</td>\n",
       "      <td>0</td>\n",
       "      <td>0</td>\n",
       "    </tr>\n",
       "    <tr>\n",
       "      <th>3</th>\n",
       "      <td>4</td>\n",
       "      <td>Chakyoung</td>\n",
       "      <td>None</td>\n",
       "      <td>달맞이길</td>\n",
       "      <td>051-756-5566</td>\n",
       "      <td>부산광역시 해운대구 중2동 1509-5</td>\n",
       "      <td>35.158587</td>\n",
       "      <td>129.175004</td>\n",
       "      <td>레스토랑|카프레제</td>\n",
       "      <td>0</td>\n",
       "      <td>0</td>\n",
       "    </tr>\n",
       "    <tr>\n",
       "      <th>4</th>\n",
       "      <td>5</td>\n",
       "      <td>Delabobo</td>\n",
       "      <td>None</td>\n",
       "      <td>발산역</td>\n",
       "      <td>02-2667-9854</td>\n",
       "      <td>서울특별시 강서구 등촌동 689</td>\n",
       "      <td>37.559904</td>\n",
       "      <td>126.840512</td>\n",
       "      <td>디저트카페|디저트</td>\n",
       "      <td>0</td>\n",
       "      <td>0</td>\n",
       "    </tr>\n",
       "  </tbody>\n",
       "</table>\n",
       "</div>"
      ],
      "text/plain": [
       "   id     store_name branch  area            tel                address  \\\n",
       "0   1           Agal   None    홍대  010-6689-5886   서울특별시 마포구 동교동 170-13   \n",
       "1   2         Assisy   None    광주   062-367-0700    광주광역시 서구 농성동 631-33   \n",
       "2   3  Battered Sole   None   이태원    02-749-6867   서울특별시 용산구 이태원동 118-9   \n",
       "3   4      Chakyoung   None  달맞이길   051-756-5566  부산광역시 해운대구 중2동 1509-5   \n",
       "4   5       Delabobo   None   발산역   02-2667-9854      서울특별시 강서구 등촌동 689   \n",
       "\n",
       "    latitude   longitude   category  review_count  review_total_score  \n",
       "0  37.556862  126.926666   아구찜|포장마차             0                   0  \n",
       "1  35.150746  126.890062         카페             0                   0  \n",
       "2  37.535032  126.991664    피쉬앤칩스|펍             0                   0  \n",
       "3  35.158587  129.175004  레스토랑|카프레제             0                   0  \n",
       "4  37.559904  126.840512  디저트카페|디저트             0                   0  "
      ]
     },
     "execution_count": 7,
     "metadata": {},
     "output_type": "execute_result"
    }
   ],
   "source": [
    "df_store.head()"
   ]
  },
  {
   "cell_type": "code",
   "execution_count": 8,
   "metadata": {},
   "outputs": [
    {
     "data": {
      "text/html": [
       "<div>\n",
       "<style scoped>\n",
       "    .dataframe tbody tr th:only-of-type {\n",
       "        vertical-align: middle;\n",
       "    }\n",
       "\n",
       "    .dataframe tbody tr th {\n",
       "        vertical-align: top;\n",
       "    }\n",
       "\n",
       "    .dataframe thead th {\n",
       "        text-align: right;\n",
       "    }\n",
       "</style>\n",
       "<table border=\"1\" class=\"dataframe\">\n",
       "  <thead>\n",
       "    <tr style=\"text-align: right;\">\n",
       "      <th></th>\n",
       "      <th>id</th>\n",
       "      <th>total_score</th>\n",
       "      <th>content</th>\n",
       "      <th>reg_time</th>\n",
       "      <th>store_id</th>\n",
       "      <th>user_id</th>\n",
       "    </tr>\n",
       "  </thead>\n",
       "  <tbody>\n",
       "    <tr>\n",
       "      <th>0</th>\n",
       "      <td>1</td>\n",
       "      <td>5.0</td>\n",
       "      <td>전포 윗길에 새로 생긴! 호주에서 온 쉐프가 직접 요리하는 호주식 레스토랑!</td>\n",
       "      <td>2020-04-07 05:48:37.271693</td>\n",
       "      <td>15</td>\n",
       "      <td>68632</td>\n",
       "    </tr>\n",
       "    <tr>\n",
       "      <th>1</th>\n",
       "      <td>2</td>\n",
       "      <td>5.0</td>\n",
       "      <td>샌드위치 내용물도 알차게 들어있고 맛있었어요 가성비 추천</td>\n",
       "      <td>2020-04-07 05:48:37.271693</td>\n",
       "      <td>18</td>\n",
       "      <td>389728</td>\n",
       "    </tr>\n",
       "    <tr>\n",
       "      <th>2</th>\n",
       "      <td>3</td>\n",
       "      <td>4.0</td>\n",
       "      <td>홈플러스 1층 매장 푸드코트 내 있는 매장인데 계란찜정식은 처음보고 시켜봣는데 사진...</td>\n",
       "      <td>2020-04-07 05:48:37.271693</td>\n",
       "      <td>19</td>\n",
       "      <td>68716</td>\n",
       "    </tr>\n",
       "    <tr>\n",
       "      <th>3</th>\n",
       "      <td>4</td>\n",
       "      <td>2.0</td>\n",
       "      <td>전 여기 5년전에 가봤었는데 그때 기억은 별로였어요\\n단체손님이 많았고, 차려지는건...</td>\n",
       "      <td>2020-04-07 05:48:37.271693</td>\n",
       "      <td>37</td>\n",
       "      <td>774353</td>\n",
       "    </tr>\n",
       "    <tr>\n",
       "      <th>4</th>\n",
       "      <td>5</td>\n",
       "      <td>3.0</td>\n",
       "      <td>친구들끼리 술 간단하게마시러 감. 스끼다시 괜찮지만 회 양이 조금 부족한 느낌. 맛...</td>\n",
       "      <td>2020-04-07 05:48:37.271693</td>\n",
       "      <td>38</td>\n",
       "      <td>115682</td>\n",
       "    </tr>\n",
       "  </tbody>\n",
       "</table>\n",
       "</div>"
      ],
      "text/plain": [
       "   id  total_score                                            content  \\\n",
       "0   1          5.0         전포 윗길에 새로 생긴! 호주에서 온 쉐프가 직접 요리하는 호주식 레스토랑!   \n",
       "1   2          5.0                    샌드위치 내용물도 알차게 들어있고 맛있었어요 가성비 추천   \n",
       "2   3          4.0  홈플러스 1층 매장 푸드코트 내 있는 매장인데 계란찜정식은 처음보고 시켜봣는데 사진...   \n",
       "3   4          2.0  전 여기 5년전에 가봤었는데 그때 기억은 별로였어요\\n단체손님이 많았고, 차려지는건...   \n",
       "4   5          3.0  친구들끼리 술 간단하게마시러 감. 스끼다시 괜찮지만 회 양이 조금 부족한 느낌. 맛...   \n",
       "\n",
       "                     reg_time  store_id  user_id  \n",
       "0  2020-04-07 05:48:37.271693        15    68632  \n",
       "1  2020-04-07 05:48:37.271693        18   389728  \n",
       "2  2020-04-07 05:48:37.271693        19    68716  \n",
       "3  2020-04-07 05:48:37.271693        37   774353  \n",
       "4  2020-04-07 05:48:37.271693        38   115682  "
      ]
     },
     "execution_count": 8,
     "metadata": {},
     "output_type": "execute_result"
    }
   ],
   "source": [
    "df_review.head()"
   ]
  },
  {
   "cell_type": "code",
   "execution_count": 9,
   "metadata": {},
   "outputs": [],
   "source": [
    "con.close()"
   ]
  },
  {
   "cell_type": "markdown",
   "metadata": {},
   "source": [
    "### surprise\n",
    "#### https://medium.com/sfu-cspmp/recommendation-systems-user-based-collaborative-filtering-using-n-nearest-neighbors-bf7361dc24e0\n",
    "#### https://github.com/ashaypathak/Recommendation-system/blob/master/Movie_Recommendation.ipynb"
   ]
  },
  {
   "cell_type": "code",
   "execution_count": 10,
   "metadata": {},
   "outputs": [],
   "source": [
    "import pandas as pd\n",
    "import numpy as np\n",
    "from sklearn.metrics.pairwise import cosine_similarity\n",
    "from sklearn.metrics import pairwise_distances"
   ]
  },
  {
   "cell_type": "code",
   "execution_count": 20,
   "metadata": {},
   "outputs": [
    {
     "data": {
      "text/html": [
       "<div>\n",
       "<style scoped>\n",
       "    .dataframe tbody tr th:only-of-type {\n",
       "        vertical-align: middle;\n",
       "    }\n",
       "\n",
       "    .dataframe tbody tr th {\n",
       "        vertical-align: top;\n",
       "    }\n",
       "\n",
       "    .dataframe thead th {\n",
       "        text-align: right;\n",
       "    }\n",
       "</style>\n",
       "<table border=\"1\" class=\"dataframe\">\n",
       "  <thead>\n",
       "    <tr style=\"text-align: right;\">\n",
       "      <th></th>\n",
       "      <th>store_id</th>\n",
       "      <th>store_name</th>\n",
       "      <th>category</th>\n",
       "      <th>address</th>\n",
       "      <th>user_id</th>\n",
       "      <th>rating</th>\n",
       "    </tr>\n",
       "  </thead>\n",
       "  <tbody>\n",
       "    <tr>\n",
       "      <th>0</th>\n",
       "      <td>15</td>\n",
       "      <td>써리힐</td>\n",
       "      <td>호주레스토랑</td>\n",
       "      <td>부산광역시 부산진구 전포동  229-13번지 2층</td>\n",
       "      <td>68632</td>\n",
       "      <td>5.0</td>\n",
       "    </tr>\n",
       "    <tr>\n",
       "      <th>1</th>\n",
       "      <td>18</td>\n",
       "      <td>진삼미 샌드위치</td>\n",
       "      <td>샌드위치|쥬스</td>\n",
       "      <td>전라북도 전주시 완산구 효자동1가 652 상산고등학교앞</td>\n",
       "      <td>389728</td>\n",
       "      <td>5.0</td>\n",
       "    </tr>\n",
       "    <tr>\n",
       "      <th>2</th>\n",
       "      <td>19</td>\n",
       "      <td>한옥마을 전주비빔밥</td>\n",
       "      <td>전주비빔밥</td>\n",
       "      <td>경기도 화성시 향남읍 행정리 487-1  홈플러스 화성향남점 1층</td>\n",
       "      <td>68716</td>\n",
       "      <td>4.0</td>\n",
       "    </tr>\n",
       "    <tr>\n",
       "      <th>3</th>\n",
       "      <td>37</td>\n",
       "      <td>007식당</td>\n",
       "      <td>굴비정식|굴비</td>\n",
       "      <td>전라남도 영광군 법성면 법성리 1148-6</td>\n",
       "      <td>774353</td>\n",
       "      <td>2.0</td>\n",
       "    </tr>\n",
       "    <tr>\n",
       "      <th>4</th>\n",
       "      <td>38</td>\n",
       "      <td>010수산</td>\n",
       "      <td>횟집</td>\n",
       "      <td>서울특별시 강서구 등촌동 671-3</td>\n",
       "      <td>115682</td>\n",
       "      <td>3.0</td>\n",
       "    </tr>\n",
       "  </tbody>\n",
       "</table>\n",
       "</div>"
      ],
      "text/plain": [
       "   store_id  store_name category                               address  \\\n",
       "0        15         써리힐   호주레스토랑           부산광역시 부산진구 전포동  229-13번지 2층   \n",
       "1        18    진삼미 샌드위치  샌드위치|쥬스        전라북도 전주시 완산구 효자동1가 652 상산고등학교앞   \n",
       "2        19  한옥마을 전주비빔밥    전주비빔밥  경기도 화성시 향남읍 행정리 487-1  홈플러스 화성향남점 1층   \n",
       "3        37       007식당  굴비정식|굴비               전라남도 영광군 법성면 법성리 1148-6   \n",
       "4        38       010수산       횟집                   서울특별시 강서구 등촌동 671-3   \n",
       "\n",
       "   user_id  rating  \n",
       "0    68632     5.0  \n",
       "1   389728     5.0  \n",
       "2    68716     4.0  \n",
       "3   774353     2.0  \n",
       "4   115682     3.0  "
      ]
     },
     "execution_count": 20,
     "metadata": {},
     "output_type": "execute_result"
    }
   ],
   "source": [
    "stores = df_store.loc[:,['id','store_name','category','address']]\n",
    "reviews = df_review.loc[:,['user_id','store_id','total_score']]\n",
    "reviews.rename(columns={'total_score':'rating'}, inplace=True)\n",
    "stores.rename(columns={'id':'store_id'},inplace=True)\n",
    "df =pd.merge(stores, reviews,on=\"store_id\")\n",
    "df.head()"
   ]
  },
  {
   "cell_type": "markdown",
   "metadata": {},
   "source": [
    "https://www.fun-coding.org/recommend_basic7.html"
   ]
  },
  {
   "cell_type": "markdown",
   "metadata": {},
   "source": [
    "#### https://lsjsj92.tistory.com/570?category=853217"
   ]
  },
  {
   "cell_type": "markdown",
   "metadata": {},
   "source": [
    "#### https://antilibrary.org/2086"
   ]
  },
  {
   "cell_type": "code",
   "execution_count": null,
   "metadata": {},
   "outputs": [],
   "source": [
    "from surprise import SVD\n",
    "from surprise import Dataset\n",
    "from surprise.model_selection import cross_validate\n",
    "from surprise import dump"
   ]
  },
  {
   "cell_type": "code",
   "execution_count": 17,
   "metadata": {},
   "outputs": [
    {
     "ename": "NameError",
     "evalue": "name 'df' is not defined",
     "output_type": "error",
     "traceback": [
      "\u001b[1;31m---------------------------------------------------------------------------\u001b[0m",
      "\u001b[1;31mNameError\u001b[0m                                 Traceback (most recent call last)",
      "\u001b[1;32m<ipython-input-17-14acc0d45d2b>\u001b[0m in \u001b[0;36m<module>\u001b[1;34m\u001b[0m\n\u001b[0;32m      4\u001b[0m \u001b[1;32mfrom\u001b[0m \u001b[0msurprise\u001b[0m \u001b[1;32mimport\u001b[0m \u001b[0mdump\u001b[0m\u001b[1;33m\u001b[0m\u001b[1;33m\u001b[0m\u001b[0m\n\u001b[0;32m      5\u001b[0m \u001b[1;31m#swapping columns\u001b[0m\u001b[1;33m\u001b[0m\u001b[1;33m\u001b[0m\u001b[1;33m\u001b[0m\u001b[0m\n\u001b[1;32m----> 6\u001b[1;33m \u001b[0mraw\u001b[0m\u001b[1;33m=\u001b[0m\u001b[0mdf\u001b[0m\u001b[1;33m[\u001b[0m\u001b[1;33m[\u001b[0m\u001b[1;34m'user_id'\u001b[0m\u001b[1;33m,\u001b[0m\u001b[1;34m'store_id'\u001b[0m\u001b[1;33m,\u001b[0m\u001b[1;34m'rating'\u001b[0m\u001b[1;33m]\u001b[0m\u001b[1;33m]\u001b[0m\u001b[1;33m\u001b[0m\u001b[1;33m\u001b[0m\u001b[0m\n\u001b[0m\u001b[0;32m      7\u001b[0m \u001b[1;31m# when importing from a DF, you only need to specify the scale of the ratings.\u001b[0m\u001b[1;33m\u001b[0m\u001b[1;33m\u001b[0m\u001b[1;33m\u001b[0m\u001b[0m\n\u001b[0;32m      8\u001b[0m \u001b[0mreader\u001b[0m \u001b[1;33m=\u001b[0m \u001b[0msurprise\u001b[0m\u001b[1;33m.\u001b[0m\u001b[0mReader\u001b[0m\u001b[1;33m(\u001b[0m\u001b[0mrating_scale\u001b[0m\u001b[1;33m=\u001b[0m\u001b[1;33m(\u001b[0m\u001b[1;36m0\u001b[0m\u001b[1;33m,\u001b[0m\u001b[1;36m5\u001b[0m\u001b[1;33m)\u001b[0m\u001b[1;33m)\u001b[0m\u001b[1;33m\u001b[0m\u001b[1;33m\u001b[0m\u001b[0m\n",
      "\u001b[1;31mNameError\u001b[0m: name 'df' is not defined"
     ]
    }
   ],
   "source": [
    "#swapping columns\n",
    "raw=df[['user_id','store_id','rating']] \n",
    "# when importing from a DF, you only need to specify the scale of the ratings.\n",
    "reader = surprise.Reader(rating_scale=(0,5)) \n",
    "#into surprise:\n",
    "dataframe = Dataset.load_from_df(raw,reader)"
   ]
  },
  {
   "cell_type": "code",
   "execution_count": 12,
   "metadata": {
    "scrolled": true
   },
   "outputs": [
    {
     "data": {
      "text/plain": [
       "<surprise.prediction_algorithms.matrix_factorization.SVD at 0x2e743cc1e48>"
      ]
     },
     "execution_count": 12,
     "metadata": {},
     "output_type": "execute_result"
    }
   ],
   "source": [
    "# 트레인 데이터로 학습\n",
    "algo = surprise.SVD()\n",
    "# cross_validate(algo, dataframe,measures=['RMSE'], cv=3, verbose=True)\n",
    "algo.fit(dataframe.build_full_trainset())"
   ]
  },
  {
   "cell_type": "markdown",
   "metadata": {},
   "source": [
    "#### 서울 지역의 유저아이디 4974에 대한 추천 가게 리스트 생성 "
   ]
  },
  {
   "cell_type": "code",
   "execution_count": 13,
   "metadata": {},
   "outputs": [],
   "source": [
    "test = df[df['address'].str.contains(\"서울\")]"
   ]
  },
  {
   "cell_type": "code",
   "execution_count": 14,
   "metadata": {},
   "outputs": [],
   "source": [
    "user_id = 4974"
   ]
  },
  {
   "cell_type": "code",
   "execution_count": 15,
   "metadata": {},
   "outputs": [],
   "source": [
    "iids = test['store_id'].unique()\n",
    "iidsUsrnotVisited = raw.loc[raw['user_id']==user_id, 'store_id']\n",
    "iids_to_pred = np.setdiff1d(iids,iidsUsrnotVisited) # 안 간 가게 구함(차집합)"
   ]
  },
  {
   "cell_type": "code",
   "execution_count": 16,
   "metadata": {},
   "outputs": [
    {
     "data": {
      "text/plain": [
       "Prediction(uid=4974, iid=38, r_ui=5.0, est=3.721401705082229, details={'was_impossible': False})"
      ]
     },
     "execution_count": 16,
     "metadata": {},
     "output_type": "execute_result"
    }
   ],
   "source": [
    "testset = [[user_id, iid, 5.] for iid in iids_to_pred]\n",
    "predictions = algo.test(testset)"
   ]
  },
  {
   "cell_type": "code",
   "execution_count": 30,
   "metadata": {},
   "outputs": [
    {
     "name": "stdout",
     "output_type": "stream",
     "text": [
      "[3.72140171 3.55358597 3.72654784 ... 3.4389243  3.77566638 3.44317783]\n"
     ]
    }
   ],
   "source": [
    "pred_ratings = np.array([pred.est for pred in predictions])\n",
    "print(pred_ratings)"
   ]
  },
  {
   "cell_type": "code",
   "execution_count": 21,
   "metadata": {},
   "outputs": [
    {
     "name": "stdout",
     "output_type": "stream",
     "text": [
      "Top store for user has store_id [152068  74520 118035    221 129842  90781 338854 157481  95034  70803] with predicted rating [4.59753931 4.48574456 4.41801832 4.40197092 4.38460441 4.38008029\n",
      " 4.36248214 4.3529043  4.35155343 4.33595085]\n"
     ]
    }
   ],
   "source": [
    "i_max = pred_ratings.argsort()[::-1][:10]\n",
    "#i_max = pred_ratings.argmax()\n",
    "iid = iids_to_pred[i_max]\n",
    "print('Top store for user has store_id {0} with predicted rating {1}'.format(iid,pred_ratings[i_max]))"
   ]
  },
  {
   "cell_type": "code",
   "execution_count": 22,
   "metadata": {},
   "outputs": [
    {
     "name": "stdout",
     "output_type": "stream",
     "text": [
      "\n",
      "152068 : 4.597539308164149\n",
      "\n",
      "74520 : 4.485744558815989\n",
      "\n",
      "118035 : 4.418018316306834\n",
      "\n",
      "221 : 4.401970924430185\n",
      "\n",
      "129842 : 4.384604414647126\n",
      "\n",
      "90781 : 4.380080288870979\n",
      "\n",
      "338854 : 4.362482141247682\n",
      "\n",
      "157481 : 4.352904299233391\n",
      "\n",
      "95034 : 4.351553432615645\n",
      "\n",
      "70803 : 4.335950851324036\n"
     ]
    }
   ],
   "source": [
    "for i,m in zip(iid,i_max):\n",
    "    print()\n",
    "    print('{0} : {1}'.format(i,pred_ratings[m]))"
   ]
  },
  {
   "cell_type": "markdown",
   "metadata": {},
   "source": [
    "##### 정확도 계산\n",
    "from surprise import accuracy\n",
    " ##### 전체 데이터로 testset 해서 측정\n",
    "testset = trainset.build_testset()\n",
    "predictions = algo.test(testset)\n",
    "\n",
    "accuracy.rmse(predictions)"
   ]
  },
  {
   "cell_type": "markdown",
   "metadata": {},
   "source": [
    "def get_Iu(uid):\n",
    "    \"\"\" return the number of items rated by given user\n",
    "    args: \n",
    "      uid: the id of the user\n",
    "    returns: \n",
    "      the number of items rated by the user\n",
    "    \"\"\"\n",
    "    try:\n",
    "        return len(trainset.ur[trainset.to_inner_uid(uid)])\n",
    "    except ValueError: # user was not part of the trainset\n",
    "        return 0\n",
    "    \n",
    "def get_Ui(iid):\n",
    "    \"\"\" return number of users that have rated given item\n",
    "    args:\n",
    "      iid: the raw id of the item\n",
    "    returns:\n",
    "      the number of users that have rated the item.\n",
    "    \"\"\"\n",
    "    try: \n",
    "        return len(trainset.ir[trainset.to_inner_iid(iid)])\n",
    "    except ValueError:\n",
    "        return 0\n",
    "\n",
    "df = pd.DataFrame(predictions, columns=['uid', 'iid', 'rui', 'est', 'details'])\n",
    "df['Iu'] = df.uid.apply(get_Iu)\n",
    "df['Ui'] = df.iid.apply(get_Ui)\n",
    "df['err'] = abs(df.est - df.rui)\n",
    "best_predictions = df.sort_values(by='err')[:10]\n",
    "worst_predictions = df.sort_values(by='err')[-10:]"
   ]
  },
  {
   "cell_type": "code",
   "execution_count": 62,
   "metadata": {},
   "outputs": [],
   "source": [
    "import os\n",
    "import surprise\n",
    "# 예측모델 지정해주기 ~~!\n",
    "def set_algo(user_id):\n",
    "    # dump file 지정\n",
    "    file_name = os.path.expanduser('dump_file')\n",
    "\n",
    "    # load dataframe\n",
    "    #swapping columns\n",
    "    raw=df[['user_id','store_id','rating']] \n",
    "    # when importing from a DF, you only need to specify the scale of the ratings.\n",
    "    reader = surprise.Reader(rating_scale=(0,5)) \n",
    "    #into surprise:\n",
    "    dataframe = surprise.Dataset.load_from_df(raw,reader)\n",
    "    trainset = dataframe.build_full_trainset()\n",
    "\n",
    "    try:\n",
    "        _, algo = surprise.dump.load(file_name)\n",
    "     \n",
    "    except FileNotFoundError:\n",
    "        # 파일이 존재하지않는 경우\n",
    "        print(\"Dump file Doesn't exists.\")\n",
    "        # Use the famous SVD algorithm.\n",
    "        algo = surprise.SVD()\n",
    "        algo.fit(trainset)\n",
    "        surprise.dump.dump(file_name, algo=algo)\n",
    "\n",
    "    finally:\n",
    "        test = df[df['address'].str.contains(\"사동\")]\n",
    "        iids = test['store_id'].unique()\n",
    "        iidsUsrnotVisited = raw.loc[raw['user_id']==user_id, 'store_id']\n",
    "        iids_to_pred = np.setdiff1d(iids,iidsUsrnotVisited) # 안 간 가게 구함(차집합)\n",
    "        # user_id가 가지않은 가게들로 testset 생성\n",
    "        testset = [[user_id, iid, 5.] for iid in iids_to_pred]\n",
    "        predictions = algo.test(testset)\n",
    "        print(surprise.accuracy.rmse(predictions))\n",
    "        pred_ratings = np.array([pred.est for pred in predictions])\n",
    "        i_max = pred_ratings.argsort()[::-1][:10] # 역순으로 상위 10개\n",
    "        #i_max = pred_ratings.argmax()\n",
    "        iid = iids_to_pred[i_max]\n",
    "        results = []\n",
    "        for i,m in zip(iid,i_max):\n",
    "            print('{0} : {1}'.format(i,pred_ratings[m]))\n",
    "            results.append({i:pred_ratings[m]})\n",
    "            \n",
    "        \n",
    "        return results,iid"
   ]
  },
  {
   "cell_type": "code",
   "execution_count": 63,
   "metadata": {},
   "outputs": [
    {
     "name": "stdout",
     "output_type": "stream",
     "text": [
      "RMSE: 1.4490\n",
      "1.449014832446019\n",
      "96612 : 4.101700973352529\n",
      "166053 : 4.052025022992504\n",
      "76201 : 4.032114930503674\n",
      "131833 : 4.0158733652172485\n",
      "262120 : 4.010808294747416\n",
      "47153 : 3.98644983320177\n",
      "125236 : 3.9816749149147146\n",
      "142481 : 3.9796883645433714\n",
      "266711 : 3.9792510571041024\n",
      "2334 : 3.9777919654723424\n"
     ]
    }
   ],
   "source": [
    "result,iid = set_algo(4974)"
   ]
  },
  {
   "cell_type": "code",
   "execution_count": 64,
   "metadata": {},
   "outputs": [],
   "source": [
    "t= pd.DataFrame(iid,columns=['store_id'])"
   ]
  },
  {
   "cell_type": "code",
   "execution_count": 65,
   "metadata": {},
   "outputs": [
    {
     "data": {
      "text/plain": [
       "array([ 96612, 166053,  76201, 131833, 262120,  47153, 125236, 142481,\n",
       "       266711,   2334], dtype=int64)"
      ]
     },
     "execution_count": 65,
     "metadata": {},
     "output_type": "execute_result"
    }
   ],
   "source": [
    "iid"
   ]
  },
  {
   "cell_type": "code",
   "execution_count": 66,
   "metadata": {},
   "outputs": [
    {
     "data": {
      "text/html": [
       "<div>\n",
       "<style scoped>\n",
       "    .dataframe tbody tr th:only-of-type {\n",
       "        vertical-align: middle;\n",
       "    }\n",
       "\n",
       "    .dataframe tbody tr th {\n",
       "        vertical-align: top;\n",
       "    }\n",
       "\n",
       "    .dataframe thead th {\n",
       "        text-align: right;\n",
       "    }\n",
       "</style>\n",
       "<table border=\"1\" class=\"dataframe\">\n",
       "  <thead>\n",
       "    <tr style=\"text-align: right;\">\n",
       "      <th></th>\n",
       "      <th>store_id</th>\n",
       "      <th>store_name</th>\n",
       "      <th>category</th>\n",
       "      <th>address</th>\n",
       "    </tr>\n",
       "  </thead>\n",
       "  <tbody>\n",
       "    <tr>\n",
       "      <th>0</th>\n",
       "      <td>2334</td>\n",
       "      <td>3촌</td>\n",
       "      <td>삼겹살|고기집</td>\n",
       "      <td>울산광역시 중구 약사동 591-5</td>\n",
       "    </tr>\n",
       "    <tr>\n",
       "      <th>1</th>\n",
       "      <td>47153</td>\n",
       "      <td>금수복국</td>\n",
       "      <td>복국|은복</td>\n",
       "      <td>서울특별시 강남구 신사동 627-13</td>\n",
       "    </tr>\n",
       "    <tr>\n",
       "      <th>2</th>\n",
       "      <td>76201</td>\n",
       "      <td>다운타우너</td>\n",
       "      <td>아보카도버거|수제버거</td>\n",
       "      <td>서울특별시 강남구 신사동 666-25</td>\n",
       "    </tr>\n",
       "    <tr>\n",
       "      <th>3</th>\n",
       "      <td>96612</td>\n",
       "      <td>도쿄등심</td>\n",
       "      <td>오마카세|한우</td>\n",
       "      <td>서울특별시 강남구 신사동 651-19 스타크빌딩 3층</td>\n",
       "    </tr>\n",
       "    <tr>\n",
       "      <th>4</th>\n",
       "      <td>125236</td>\n",
       "      <td>리스토란테33</td>\n",
       "      <td>파스타|레스토랑</td>\n",
       "      <td>경상북도 경산시 사동 33</td>\n",
       "    </tr>\n",
       "    <tr>\n",
       "      <th>5</th>\n",
       "      <td>131833</td>\n",
       "      <td>만</td>\n",
       "      <td>장어|장어요리</td>\n",
       "      <td>서울특별시 강남구 신사동 636-23</td>\n",
       "    </tr>\n",
       "    <tr>\n",
       "      <th>6</th>\n",
       "      <td>142481</td>\n",
       "      <td>메이첸팡</td>\n",
       "      <td>중국집|짜장면</td>\n",
       "      <td>경기도 고양시 일산동구 식사동 1537-1</td>\n",
       "    </tr>\n",
       "    <tr>\n",
       "      <th>7</th>\n",
       "      <td>166053</td>\n",
       "      <td>바빌리안테이블</td>\n",
       "      <td>레스토랑|치즈퐁듀</td>\n",
       "      <td>서울특별시 강남구 신사동 660-18</td>\n",
       "    </tr>\n",
       "    <tr>\n",
       "      <th>8</th>\n",
       "      <td>262120</td>\n",
       "      <td>아우어베이커리</td>\n",
       "      <td>베이커리|카페</td>\n",
       "      <td>서울특별시 강남구 신사동 523-19</td>\n",
       "    </tr>\n",
       "    <tr>\n",
       "      <th>9</th>\n",
       "      <td>266711</td>\n",
       "      <td>압구정면옥</td>\n",
       "      <td>냉면</td>\n",
       "      <td>서울특별시 강남구 신사동 610-3</td>\n",
       "    </tr>\n",
       "  </tbody>\n",
       "</table>\n",
       "</div>"
      ],
      "text/plain": [
       "   store_id store_name     category                        address\n",
       "0      2334         3촌      삼겹살|고기집             울산광역시 중구 약사동 591-5\n",
       "1     47153       금수복국        복국|은복           서울특별시 강남구 신사동 627-13\n",
       "2     76201      다운타우너  아보카도버거|수제버거           서울특별시 강남구 신사동 666-25\n",
       "3     96612       도쿄등심      오마카세|한우  서울특별시 강남구 신사동 651-19 스타크빌딩 3층\n",
       "4    125236    리스토란테33     파스타|레스토랑                 경상북도 경산시 사동 33\n",
       "5    131833          만      장어|장어요리           서울특별시 강남구 신사동 636-23\n",
       "6    142481       메이첸팡      중국집|짜장면        경기도 고양시 일산동구 식사동 1537-1\n",
       "7    166053    바빌리안테이블    레스토랑|치즈퐁듀           서울특별시 강남구 신사동 660-18\n",
       "8    262120    아우어베이커리      베이커리|카페           서울특별시 강남구 신사동 523-19\n",
       "9    266711      압구정면옥           냉면            서울특별시 강남구 신사동 610-3"
      ]
     },
     "execution_count": 66,
     "metadata": {},
     "output_type": "execute_result"
    }
   ],
   "source": [
    "pd.merge(stores,t,on=\"store_id\",how='inner')\n",
    "# 추천 결과"
   ]
  },
  {
   "cell_type": "markdown",
   "metadata": {},
   "source": [
    "### 위도 경도로 거리차이 구하기"
   ]
  },
  {
   "cell_type": "code",
   "execution_count": 231,
   "metadata": {},
   "outputs": [],
   "source": [
    "import math\n",
    "import numbers\n",
    "def get_euclidean_distance(x1,y1,x2,y2,round_decimal_digits=5):\n",
    "    if x1 is None or y1 is None or x2 is None or y2 is None:\n",
    "        return None\n",
    "    assert isinstance(x1, numbers.Number) and -180 <=x1 and x1<=180\n",
    "    assert isinstance(y1, numbers.Number) and -90 <=y1 and y1<=90\n",
    "    assert isinstance(x2, numbers.Number) and -180 <=x2 and x2<=180\n",
    "    assert isinstance(y2, numbers.Number) and -90 <=y2 and y2<=90\n",
    "    dLon = abs(x2-x1) # 경도차이\n",
    "    if dLon >=180:\n",
    "        dLon -=360\n",
    "    dLat = y2-y1 # 위도차이\n",
    "    return round(math.sqrt(pow(dLon,2) + pow(dLat,2)), round_decimal_digits)\n",
    "\n",
    "a = get_euclidean_distance(-179,0,179,0)"
   ]
  },
  {
   "cell_type": "markdown",
   "metadata": {},
   "source": [
    "### 참고 소스인데 않뎀.."
   ]
  },
  {
   "cell_type": "code",
   "execution_count": 10,
   "metadata": {},
   "outputs": [],
   "source": [
    "from surprise import SVD\n",
    "from surprise import Dataset\n",
    "from surprise.model_selection import cross_validate\n",
    "from surprise import dump\n",
    "import surprise\n",
    "import os"
   ]
  },
  {
   "cell_type": "markdown",
   "metadata": {},
   "source": [
    "#### Memory error ... build_anti_testset()에서 나는듯.."
   ]
  },
  {
   "cell_type": "code",
   "execution_count": null,
   "metadata": {},
   "outputs": [],
   "source": [
    "#swapping columns\n",
    "df = pd.merge(reviews, stores,on=\"store_id\")\n",
    "raw=df[['user_id','store_id','rating']] \n",
    "# when importing from a DF, you only need to specify the scale of the ratings.\n",
    "reader = surprise.Reader(rating_scale=(0,5)) \n",
    "#into surprise:\n",
    "dataframe = surprise.Dataset.load_from_df(raw,reader)\n",
    "trainset = dataframe.build_full_trainset()\n",
    "# Use the famous SVD algorithm.\n",
    "algo = SVD()\n",
    "algo.fit(trainset)\n",
    "\n",
    "testset = trainset.build_anti_testset()\n",
    "\n",
    "predictions = algo.test(trainset.build_anti_testset())"
   ]
  },
  {
   "cell_type": "markdown",
   "metadata": {},
   "source": [
    "### algofile dump 만드리"
   ]
  },
  {
   "cell_type": "code",
   "execution_count": null,
   "metadata": {},
   "outputs": [],
   "source": [
    "# Dump algorithm and reload it.\n",
    "file_name = os.path.expanduser('dump_file')\n",
    "dump.dump(file_name, algo=algo)\n",
    "_, loaded_algo = dump.load(file_name)\n",
    "\n",
    "# We now ensure that the algo is still the same by checking the predictions.\n",
    "predictions_loaded_algo = loaded_algo.test(trainset.build_testset())\n",
    "assert predictions == predictions_loaded_algo\n",
    "print('Predictions are the same')"
   ]
  },
  {
   "cell_type": "code",
   "execution_count": null,
   "metadata": {},
   "outputs": [],
   "source": [
    "from collections import defaultdict\n",
    "def get_top_n(predictions, n=10):\n",
    "    '''Return the top-N recommendation for each user from a set of predictions.\n",
    "\n",
    "    Args:\n",
    "        predictions(list of Prediction objects): The list of predictions, as\n",
    "            returned by the test method of an algorithm.\n",
    "        n(int): The number of recommendation to output for each user. Default\n",
    "            is 10.\n",
    "\n",
    "    Returns:\n",
    "    A dict where keys are user (raw) ids and values are lists of tuples:\n",
    "        [(raw item id, rating estimation), ...] of size n.\n",
    "    '''\n",
    "\n",
    "    # First map the predictions to each user.\n",
    "    top_n = defaultdict(list)\n",
    "    for uid, iid, true_r, est, _ in predictions:\n",
    "        top_n[uid].append((iid, est))\n",
    "\n",
    "    # Then sort the predictions for each user and retrieve the k highest ones.\n",
    "    for uid, user_ratings in top_n.items():\n",
    "        user_ratings.sort(key=lambda x: x[1], reverse=True)\n",
    "        top_n[uid] = user_ratings[:n]\n",
    "\n",
    "    return top_n\n",
    "\n",
    "top_n = get_top_n(predictions, n=10)\n",
    "\n",
    "# Print the recommended items for each user\n",
    "for uid, user_ratings in top_n.items():\n",
    "    print(uid, [iid for (iid, _) in user_ratings])\n",
    "\n",
    "# 성능검사\n",
    "algo = surprise.SVD()\n",
    "cross_validate(algo, dataframe,measures=['RMSE','MAE'], cv=5, verbose=True)"
   ]
  }
 ],
 "metadata": {
  "kernelspec": {
   "display_name": "Python [conda env:pjt] *",
   "language": "python",
   "name": "conda-env-pjt-py"
  },
  "language_info": {
   "codemirror_mode": {
    "name": "ipython",
    "version": 3
   },
   "file_extension": ".py",
   "mimetype": "text/x-python",
   "name": "python",
   "nbconvert_exporter": "python",
   "pygments_lexer": "ipython3",
   "version": "3.6.8"
  }
 },
 "nbformat": 4,
 "nbformat_minor": 4
}