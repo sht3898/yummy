{
 "cells": [
  {
   "cell_type": "code",
   "execution_count": 1,
   "metadata": {},
   "outputs": [],
   "source": [
    "import pandas as pd"
   ]
  },
  {
   "cell_type": "code",
   "execution_count": 2,
   "metadata": {},
   "outputs": [],
   "source": [
    "DATA_FILE =\"dump_with_rev_store.pkl\" # review정보 포함한것 + 주소 업데이트한 store\n",
    "DATA_FILE_LODGING = \"dump_lodging.pkl\" # 숙박\n",
    "DATA_FILE_SPOT = \"dump_spot.pkl\" # 관광지(한국관광공사)\n",
    "DATA_FILE_AREA = \"dump_area.pkl\" # 지역 "
   ]
  },
  {
   "cell_type": "markdown",
   "metadata": {},
   "source": [
    "# load data from pickle files"
   ]
  },
  {
   "cell_type": "code",
   "execution_count": 3,
   "metadata": {},
   "outputs": [],
   "source": [
    "def _load_dataframes():\n",
    "    try:\n",
    "        data = pd.read_pickle(DATA_FILE)\n",
    "        data_lodging = pd.read_pickle(DATA_FILE_LODGING)\n",
    "        data_spot = pd.read_pickle(DATA_FILE_SPOT)\n",
    "        data_area = pd.read_pickle(DATA_FILE_AREA)\n",
    "    except:\n",
    "        print(f\"[-] Reading {DATA_FILE} failed\")\n",
    "        exit(1)\n",
    "    return data, data_spot, data_lodging, data_area"
   ]
  },
  {
   "cell_type": "code",
   "execution_count": 4,
   "metadata": {},
   "outputs": [],
   "source": [
    "dataframes, dataframes_spot, dataframes_lodging, dataframes_area = _load_dataframes()"
   ]
  },
  {
   "cell_type": "code",
   "execution_count": 5,
   "metadata": {},
   "outputs": [],
   "source": [
    "stores = dataframes['stores']\n",
    "spots = dataframes_spot['spots']\n",
    "lodgings = dataframes_lodging['lodgings']\n",
    "area = dataframes_area['area']"
   ]
  },
  {
   "cell_type": "markdown",
   "metadata": {},
   "source": [
    "## 결측 주소 확인하기"
   ]
  },
  {
   "cell_type": "code",
   "execution_count": 6,
   "metadata": {},
   "outputs": [
    {
     "data": {
      "text/plain": [
       "0"
      ]
     },
     "execution_count": 6,
     "metadata": {},
     "output_type": "execute_result"
    }
   ],
   "source": [
    "stores['address'].isnull().sum()"
   ]
  },
  {
   "cell_type": "code",
   "execution_count": 7,
   "metadata": {},
   "outputs": [
    {
     "data": {
      "text/plain": [
       "0"
      ]
     },
     "execution_count": 7,
     "metadata": {},
     "output_type": "execute_result"
    }
   ],
   "source": [
    "spots['address'].isnull().sum()"
   ]
  },
  {
   "cell_type": "code",
   "execution_count": 8,
   "metadata": {},
   "outputs": [
    {
     "data": {
      "text/html": [
       "<div>\n",
       "<style scoped>\n",
       "    .dataframe tbody tr th:only-of-type {\n",
       "        vertical-align: middle;\n",
       "    }\n",
       "\n",
       "    .dataframe tbody tr th {\n",
       "        vertical-align: top;\n",
       "    }\n",
       "\n",
       "    .dataframe thead th {\n",
       "        text-align: right;\n",
       "    }\n",
       "</style>\n",
       "<table border=\"1\" class=\"dataframe\">\n",
       "  <thead>\n",
       "    <tr style=\"text-align: right;\">\n",
       "      <th></th>\n",
       "      <th>lodging_name</th>\n",
       "      <th>lodging_type</th>\n",
       "      <th>road_address</th>\n",
       "      <th>address</th>\n",
       "      <th>latitude</th>\n",
       "      <th>longitude</th>\n",
       "      <th>description</th>\n",
       "    </tr>\n",
       "  </thead>\n",
       "  <tbody>\n",
       "  </tbody>\n",
       "</table>\n",
       "</div>"
      ],
      "text/plain": [
       "Empty DataFrame\n",
       "Columns: [lodging_name, lodging_type, road_address, address, latitude, longitude, description]\n",
       "Index: []"
      ]
     },
     "execution_count": 8,
     "metadata": {},
     "output_type": "execute_result"
    }
   ],
   "source": [
    "lodgings[((lodgings['road_address'].isnull()) & lodgings['address'].isnull())]"
   ]
  },
  {
   "cell_type": "code",
   "execution_count": 9,
   "metadata": {},
   "outputs": [
    {
     "data": {
      "text/html": [
       "<div>\n",
       "<style scoped>\n",
       "    .dataframe tbody tr th:only-of-type {\n",
       "        vertical-align: middle;\n",
       "    }\n",
       "\n",
       "    .dataframe tbody tr th {\n",
       "        vertical-align: top;\n",
       "    }\n",
       "\n",
       "    .dataframe thead th {\n",
       "        text-align: right;\n",
       "    }\n",
       "</style>\n",
       "<table border=\"1\" class=\"dataframe\">\n",
       "  <thead>\n",
       "    <tr style=\"text-align: right;\">\n",
       "      <th></th>\n",
       "      <th>lodging_name</th>\n",
       "      <th>lodging_type</th>\n",
       "      <th>road_address</th>\n",
       "      <th>address</th>\n",
       "      <th>latitude</th>\n",
       "      <th>longitude</th>\n",
       "      <th>description</th>\n",
       "    </tr>\n",
       "  </thead>\n",
       "  <tbody>\n",
       "    <tr>\n",
       "      <th>0</th>\n",
       "      <td>포시즌펜션</td>\n",
       "      <td>펜션</td>\n",
       "      <td>강원도 양구군 양구읍 금강산로 438-21</td>\n",
       "      <td>NaN</td>\n",
       "      <td>38.116966</td>\n",
       "      <td>127.993005</td>\n",
       "      <td>부대시설 : x&lt;br&gt;주차장보유여부 : Y&lt;br&gt;결제방법 : 현금, 카드&lt;br&gt;전화...</td>\n",
       "    </tr>\n",
       "    <tr>\n",
       "      <th>1</th>\n",
       "      <td>아인53펜션</td>\n",
       "      <td>펜션</td>\n",
       "      <td>강원도 양구군 양구읍 성곡로 206</td>\n",
       "      <td>NaN</td>\n",
       "      <td>38.135321</td>\n",
       "      <td>127.987240</td>\n",
       "      <td>부대시설 : x&lt;br&gt;주차장보유여부 : Y&lt;br&gt;결제방법 : 현금, 카드&lt;br&gt;전화...</td>\n",
       "    </tr>\n",
       "    <tr>\n",
       "      <th>2</th>\n",
       "      <td>천지타운펜션</td>\n",
       "      <td>펜션</td>\n",
       "      <td>강원도 양구군 동면 금강산로 1701</td>\n",
       "      <td>NaN</td>\n",
       "      <td>38.202885</td>\n",
       "      <td>128.043983</td>\n",
       "      <td>부대시설 : x&lt;br&gt;주차장보유여부 : Y&lt;br&gt;결제방법 : 현금, 카드&lt;br&gt;전화...</td>\n",
       "    </tr>\n",
       "    <tr>\n",
       "      <th>3</th>\n",
       "      <td>사명산민박</td>\n",
       "      <td>민박</td>\n",
       "      <td>강원도 양구군 양구읍 소양호로 1323</td>\n",
       "      <td>NaN</td>\n",
       "      <td>38.036495</td>\n",
       "      <td>127.925492</td>\n",
       "      <td>주차장보유여부 : Y&lt;br&gt;</td>\n",
       "    </tr>\n",
       "    <tr>\n",
       "      <th>4</th>\n",
       "      <td>푸른솔농원</td>\n",
       "      <td>민박</td>\n",
       "      <td>강원도 양구군 양구읍 소양호로 2639-80</td>\n",
       "      <td>NaN</td>\n",
       "      <td>38.049811</td>\n",
       "      <td>127.970073</td>\n",
       "      <td>주차장보유여부 : Y&lt;br&gt;</td>\n",
       "    </tr>\n",
       "  </tbody>\n",
       "</table>\n",
       "</div>"
      ],
      "text/plain": [
       "  lodging_name lodging_type              road_address address   latitude  \\\n",
       "0        포시즌펜션           펜션   강원도 양구군 양구읍 금강산로 438-21     NaN  38.116966   \n",
       "1       아인53펜션           펜션       강원도 양구군 양구읍 성곡로 206     NaN  38.135321   \n",
       "2       천지타운펜션           펜션      강원도 양구군 동면 금강산로 1701     NaN  38.202885   \n",
       "3        사명산민박           민박     강원도 양구군 양구읍 소양호로 1323     NaN  38.036495   \n",
       "4        푸른솔농원           민박  강원도 양구군 양구읍 소양호로 2639-80     NaN  38.049811   \n",
       "\n",
       "    longitude                                        description  \n",
       "0  127.993005  부대시설 : x<br>주차장보유여부 : Y<br>결제방법 : 현금, 카드<br>전화...  \n",
       "1  127.987240  부대시설 : x<br>주차장보유여부 : Y<br>결제방법 : 현금, 카드<br>전화...  \n",
       "2  128.043983  부대시설 : x<br>주차장보유여부 : Y<br>결제방법 : 현금, 카드<br>전화...  \n",
       "3  127.925492                                    주차장보유여부 : Y<br>  \n",
       "4  127.970073                                    주차장보유여부 : Y<br>  "
      ]
     },
     "execution_count": 9,
     "metadata": {},
     "output_type": "execute_result"
    }
   ],
   "source": [
    "lodgings.head()"
   ]
  },
  {
   "cell_type": "code",
   "execution_count": 10,
   "metadata": {},
   "outputs": [],
   "source": [
    "# apply하기전에 결측치 '없음'으로 채워주기\n",
    "lodgings[['road_address','address']] = lodgings[['road_address','address']].fillna(\"없음\")"
   ]
  },
  {
   "cell_type": "code",
   "execution_count": 11,
   "metadata": {},
   "outputs": [],
   "source": [
    "def combineAddr(row):\n",
    "    if row['road_address']!='없음':\n",
    "        return row['road_address']\n",
    "    else:\n",
    "        return row['address']\n",
    "    \n",
    "def getAddr(row):\n",
    "    s = row['new_address'].split(\" \")\n",
    "    if len(s[0])>=5:\n",
    "        return s[0]\n",
    "    return s[0]+\" \"+s[1]\n",
    "   \n",
    "\n",
    "def setAddrEtc(row):\n",
    "    if '부산광역시기장군' in row['combine_address']:\n",
    "        return \"부산광역시 기장군 \"+ row['combine_address'].split(\"부산광역시기장군\")[1]\n",
    "    elif '전라북도 무주군안성면' in row['combine_address']:\n",
    "        return \"전라북도 무주군 안성면 \"+row['combine_address'].split(\"전라북도 무주군안성면\")[1]\n",
    "    elif '전라북도 무주군설천면' in row['combine_address']:\n",
    "        return \"전라북도 무주군 설천면 \"+row['combine_address'].split(\"전라북도 무주군설천면\")[1]\n",
    "    elif '강원 삼척시' in row['combine_address']:\n",
    "        return \"강원도 삼척시 \"+row['combine_address'].split(\"강원 삼척시\")[1]\n",
    "    elif '충북 단양군' in row['combine_address']:\n",
    "        return \"충청북도 단양군 \"+ row['combine_address'].split(\"충북 단양군\")[1]\n",
    "    else:\n",
    "        return row['combine_address']\n",
    "\n",
    "lodgings['combine_address']=lodgings.apply(combineAddr, axis=1)\n",
    "lodgings['new_address']=lodgings.apply(setAddrEtc, axis=1)\n",
    "lodgings['addr']=lodgings.apply(getAddr, axis=1)"
   ]
  },
  {
   "cell_type": "code",
   "execution_count": 12,
   "metadata": {},
   "outputs": [
    {
     "data": {
      "text/plain": [
       "array(['강원도 강릉시', '강원도 동해시', '강원도 삼척시', '강원도 속초시', '강원도 양구군', '강원도 양양군',\n",
       "       '강원도 원주시', '강원도 인제군', '강원도 정선군', '강원도 춘천시', '강원도 태백시', '강원도 평창군',\n",
       "       '강원도 홍천군', '강원도 횡성군', '경기도 가평군', '경기도 고양시', '경기도 광주시', '경기도 김포시',\n",
       "       '경기도 동두천시', '경기도 성남시', '경기도 수원시', '경기도 안산시', '경기도 안성시', '경기도 안양시',\n",
       "       '경기도 양주시', '경기도 양평군', '경기도 여주시', '경기도 용인시', '경기도 이천시', '경기도 파주시',\n",
       "       '경기도 평택시', '경기도 포천시', '경기도 화성시', '경상남도 거제시', '경상남도 고성군',\n",
       "       '경상남도 김해시', '경상남도 남해군', '경상남도 밀양시', '경상남도 사천시', '경상남도 산청군',\n",
       "       '경상남도 양산시', '경상남도 의령군', '경상남도 진주시', '경상남도 창녕군', '경상남도 창원시',\n",
       "       '경상남도 통영시', '경상남도 하동군', '경상남도 함안군', '경상남도 함양군', '경상남도 합천군',\n",
       "       '경상북도 경주시', '경상북도 구미시', '경상북도 군위군', '경상북도 김천시', '경상북도 문경시',\n",
       "       '경상북도 봉화군', '경상북도 상주시', '경상북도 성주군', '경상북도 안동시', '경상북도 영덕군',\n",
       "       '경상북도 영양군', '경상북도 영천시', '경상북도 예천군', '경상북도 울릉군', '경상북도 울진군',\n",
       "       '경상북도 청도군', '경상북도 청송군', '경상북도 칠곡군', '경상북도 포항시', '광주광역시', '대구광역시',\n",
       "       '대전광역시', '부산광역시', '서울특별시', '울산광역시', '인천광역시', '전라남도 강진군',\n",
       "       '전라남도 고흥군', '전라남도 곡성군', '전라남도 광양시', '전라남도 구례군', '전라남도 담양군',\n",
       "       '전라남도 목포시', '전라남도 무안군', '전라남도 순천시', '전라남도 신안군', '전라남도 여수시',\n",
       "       '전라남도 영광군', '전라남도 영암군', '전라남도 완도군', '전라남도 진도군', '전라남도 함평군',\n",
       "       '전라남도 해남군', '전라남도 화순군', '전라북도 고창군', '전라북도 군산시', '전라북도 남원시',\n",
       "       '전라북도 무주군', '전라북도 부안군', '전라북도 순창군', '전라북도 완주군', '전라북도 익산시',\n",
       "       '전라북도 장수군', '전라북도 정읍시', '전라북도 진안군', '제주특별자치도', '충청남도 공주시',\n",
       "       '충청남도 금산군', '충청남도 논산시', '충청남도 당진시', '충청남도 보령시', '충청남도 부여군',\n",
       "       '충청남도 서산시', '충청남도 서천군', '충청남도 아산시', '충청남도 예산군', '충청남도 천안시',\n",
       "       '충청남도 청양군', '충청남도 태안군', '충청남도 홍성군', '충청북도 괴산군', '충청북도 단양군',\n",
       "       '충청북도 보은군', '충청북도 옥천군', '충청북도 진천군', '충청북도 청주시', '충청북도 충주시'],\n",
       "      dtype=object)"
      ]
     },
     "execution_count": 12,
     "metadata": {},
     "output_type": "execute_result"
    }
   ],
   "source": [
    "lodgings['addr'].sort_values().unique()"
   ]
  },
  {
   "cell_type": "code",
   "execution_count": 13,
   "metadata": {},
   "outputs": [],
   "source": [
    "lodging_area = lodgings['addr'].unique()"
   ]
  },
  {
   "cell_type": "code",
   "execution_count": 14,
   "metadata": {},
   "outputs": [
    {
     "name": "stdout",
     "output_type": "stream",
     "text": [
      "--- Done ---\n"
     ]
    }
   ],
   "source": [
    "for la in lodging_area:\n",
    "    isDone=False\n",
    "    for a in area['address']:\n",
    "        if la in a:\n",
    "            isDone=True\n",
    "    if isDone is False:\n",
    "        print(la + \"no\")\n",
    "print(\"--- Done ---\")"
   ]
  },
  {
   "cell_type": "markdown",
   "metadata": {},
   "source": [
    "누가 띄어쓰기 안하고 정보넣냐...진짜"
   ]
  },
  {
   "cell_type": "markdown",
   "metadata": {},
   "source": [
    "## spot"
   ]
  },
  {
   "cell_type": "code",
   "execution_count": 15,
   "metadata": {},
   "outputs": [],
   "source": [
    "def getAddrSpot(row):\n",
    "    s = row['address'].split(\" \")\n",
    "    if s[0]==\"69,\" or s[0]==\"등록\":\n",
    "        return \"삭제\"\n",
    "    if s[0]=='서울':\n",
    "        return '서울특별시'\n",
    "    elif s[0]=='인천':\n",
    "        return \"인천광역시\"\n",
    "    elif s[0]=='대전':\n",
    "        return \"대전광역시\"\n",
    "    elif s[0]=='대구':\n",
    "        return \"대구광역시\"\n",
    "    elif s[0]=='광주':\n",
    "        return \"광주광역시\"\n",
    "    elif s[0]=='울산' or s[0]=='울산광역시일대':\n",
    "        return \"울산광역시\"\n",
    "    elif s[0]=='부산':\n",
    "        return \"부산광역시\"\n",
    "   \n",
    "    if len(s[0])>=5:\n",
    "        return s[0]\n",
    "    if s[0]=='경기':\n",
    "        return \"경기도 \" + s[1]\n",
    "    elif s[0]=='충북':\n",
    "        return \"충청북도 \"+s[1]\n",
    "    elif s[0]=='충남':\n",
    "        return \"충청남도 \"+s[1]\n",
    "    elif s[0]=='경북':\n",
    "        return \"경상북도 \"+s[1]\n",
    "    elif s[0]=='경남':\n",
    "        return \"경상남도 \"+s[1]\n",
    "    elif s[0]=='전북':\n",
    "        return \"전라북도 \"+s[1]\n",
    "    elif s[0]=='전남':\n",
    "        return \"전라남도 \"+s[1]\n",
    "    elif s[0]=='강원':\n",
    "        return \"강원도 \"+s[1]\n",
    "    return s[0]+\" \"+s[1]\n",
    "spots['addr']=spots.apply(getAddrSpot, axis=1)"
   ]
  },
  {
   "cell_type": "code",
   "execution_count": 16,
   "metadata": {},
   "outputs": [
    {
     "data": {
      "text/plain": [
       "array(['강원도 강릉시', '강원도 고성군', '강원도 동해시', '강원도 삼척시', '강원도 속초시', '강원도 양구군',\n",
       "       '강원도 양양군', '강원도 영월군', '강원도 원주시', '강원도 인제군', '강원도 정선군', '강원도 철원군',\n",
       "       '강원도 춘천시', '강원도 태백시', '강원도 평창군', '강원도 홍천군', '강원도 화천군', '강원도 횡성군',\n",
       "       '강원도강릉시,', '경기도 가평군', '경기도 고양시', '경기도 과천시', '경기도 광명시', '경기도 광주시',\n",
       "       '경기도 구리시', '경기도 군포시', '경기도 군포시,안산시,', '경기도 김포시', '경기도 남양주시',\n",
       "       '경기도 동두천시', '경기도 동두천시소요동', '경기도 부천시', '경기도 성남시', '경기도 수원시',\n",
       "       '경기도 시흥시', '경기도 안산시', '경기도 안성시', '경기도 안양시', '경기도 양주시', '경기도 양평군',\n",
       "       '경기도 여주시', '경기도 연천군', '경기도 오산시', '경기도 용인시', '경기도 의왕시', '경기도 의정부시',\n",
       "       '경기도 이천시', '경기도 파주시', '경기도 평택시', '경기도 포천시', '경기도 포천시영중면',\n",
       "       '경기도 하남시', '경기도 화성시', '경상남도 거제시', '경상남도 거창군', '경상남도 고성군',\n",
       "       '경상남도 김해시', '경상남도 남해군', '경상남도 밀양시', '경상남도 사천시', '경상남도 산청군',\n",
       "       '경상남도 양산시', '경상남도 의령군', '경상남도 진주시', '경상남도 창녕군', '경상남도 창원시',\n",
       "       '경상남도 통영시', '경상남도 통영시통영해안로', '경상남도 하동군', '경상남도 함안군', '경상남도 함양군',\n",
       "       '경상남도 합천군', '경상북도 경산시', '경상북도 경주시', '경상북도 경주시경감로', '경상북도 고령군',\n",
       "       '경상북도 구미시', '경상북도 군위군', '경상북도 김천시', '경상북도 문경시', '경상북도 봉화군',\n",
       "       '경상북도 상주시', '경상북도 성주군', '경상북도 안동시', '경상북도 영덕군', '경상북도 영양군',\n",
       "       '경상북도 영주시', '경상북도 영천시', '경상북도 예천군', '경상북도 울릉군', '경상북도 울진군',\n",
       "       '경상북도 울진군온정면', '경상북도 의성군', '경상북도 청도군', '경상북도 청송군', '경상북도 칠곡군',\n",
       "       '경상북도 포항시', '광주광역시', '대구광역시', '대전광역시', '부산광역시', '삭제', '서울특별시',\n",
       "       '세종특별자치시', '울산광역시', '인천광역시', '전라남도 강진군', '전라남도 고흥군', '전라남도 곡성군',\n",
       "       '전라남도 광양시', '전라남도 구례군', '전라남도 나주시', '전라남도 담양군', '전라남도 목포시',\n",
       "       '전라남도 목포시북항,', '전라남도 무안군', '전라남도 보성군', '전라남도 순천시', '전라남도 신안군',\n",
       "       '전라남도 여수시', '전라남도 여수시박람회길', '전라남도 여수시소라면', '전라남도 영광군', '전라남도 영암군',\n",
       "       '전라남도 완도군', '전라남도 장성군', '전라남도 장흥군', '전라남도 진도군', '전라남도 함평군',\n",
       "       '전라남도 해남군', '전라남도 화순군', '전라북도 고창군', '전라북도 군산시', '전라북도 김제시',\n",
       "       '전라북도 남원시', '전라북도 무주군', '전라북도 무주군설천면(삼공리,', '전라북도 부안군', '전라북도 순창군',\n",
       "       '전라북도 완주군', '전라북도 익산시', '전라북도 임실군', '전라북도 장수군', '전라북도 전주시',\n",
       "       '전라북도 정읍시', '전라북도 진안군', '제주특별자치도', '충청남도 계룡시', '충청남도 공주시',\n",
       "       '충청남도 금산군', '충청남도 논산시', '충청남도 당진시', '충청남도 보령시', '충청남도 보령시신흑동,',\n",
       "       '충청남도 부여군', '충청남도 서산시', '충청남도 서천군', '충청남도 아산시', '충청남도 아산시음봉면',\n",
       "       '충청남도 예산군', '충청남도 천안시', '충청남도 청양군', '충청남도 태안군', '충청남도 홍성군',\n",
       "       '충청북도 괴산군', '충청북도 단양군', '충청북도 보은군', '충청북도 영동군', '충청북도 옥천군',\n",
       "       '충청북도 음성군', '충청북도 제천시', '충청북도 증평군', '충청북도 진천군', '충청북도 청주시',\n",
       "       '충청북도 충주시'], dtype=object)"
      ]
     },
     "execution_count": 16,
     "metadata": {},
     "output_type": "execute_result"
    }
   ],
   "source": [
    "spots.addr.sort_values().unique()"
   ]
  },
  {
   "cell_type": "code",
   "execution_count": 17,
   "metadata": {},
   "outputs": [
    {
     "data": {
      "text/html": [
       "<div>\n",
       "<style scoped>\n",
       "    .dataframe tbody tr th:only-of-type {\n",
       "        vertical-align: middle;\n",
       "    }\n",
       "\n",
       "    .dataframe tbody tr th {\n",
       "        vertical-align: top;\n",
       "    }\n",
       "\n",
       "    .dataframe thead th {\n",
       "        text-align: right;\n",
       "    }\n",
       "</style>\n",
       "<table border=\"1\" class=\"dataframe\">\n",
       "  <thead>\n",
       "    <tr style=\"text-align: right;\">\n",
       "      <th></th>\n",
       "      <th>contentid</th>\n",
       "      <th>title</th>\n",
       "      <th>firstimage</th>\n",
       "      <th>cat2</th>\n",
       "      <th>overview</th>\n",
       "      <th>mapx</th>\n",
       "      <th>mapy</th>\n",
       "      <th>address</th>\n",
       "      <th>description</th>\n",
       "      <th>category</th>\n",
       "      <th>addr</th>\n",
       "    </tr>\n",
       "  </thead>\n",
       "  <tbody>\n",
       "    <tr>\n",
       "      <th>1916</th>\n",
       "      <td>125457</td>\n",
       "      <td>수리산도립공원</td>\n",
       "      <td>http://tong.visitkorea.or.kr/cms/resource/53/1...</td>\n",
       "      <td>A0101</td>\n",
       "      <td>군포 시민은 물론이고 안양, 안산 시민들에게 마음의 안식처로 사랑받고 있는 수리산은...</td>\n",
       "      <td>126.907661</td>\n",
       "      <td>37.359274</td>\n",
       "      <td>경기도 군포시,안산시, 안양시</td>\n",
       "      <td>유모차 대여정보 : 없음&lt;br&gt;신용카드가능 정보 : 없음&lt;br&gt;애완동물 동반가능 정...</td>\n",
       "      <td>자연관광지</td>\n",
       "      <td>경기도 군포시,안산시,</td>\n",
       "    </tr>\n",
       "  </tbody>\n",
       "</table>\n",
       "</div>"
      ],
      "text/plain": [
       "      contentid    title                                         firstimage  \\\n",
       "1916     125457  수리산도립공원  http://tong.visitkorea.or.kr/cms/resource/53/1...   \n",
       "\n",
       "       cat2                                           overview        mapx  \\\n",
       "1916  A0101  군포 시민은 물론이고 안양, 안산 시민들에게 마음의 안식처로 사랑받고 있는 수리산은...  126.907661   \n",
       "\n",
       "           mapy           address  \\\n",
       "1916  37.359274  경기도 군포시,안산시, 안양시   \n",
       "\n",
       "                                            description category          addr  \n",
       "1916  유모차 대여정보 : 없음<br>신용카드가능 정보 : 없음<br>애완동물 동반가능 정...    자연관광지  경기도 군포시,안산시,  "
      ]
     },
     "execution_count": 17,
     "metadata": {},
     "output_type": "execute_result"
    }
   ],
   "source": [
    "spots[spots['addr']=='경기도 군포시,안산시,']"
   ]
  },
  {
   "cell_type": "code",
   "execution_count": 18,
   "metadata": {},
   "outputs": [],
   "source": [
    "spots.loc[spots['addr']=='경기도 군포시,안산시,','addr']='경기도 군포시'\n",
    "spots.loc[spots['addr']=='경기도 동두천시소요동','addr']='경기도 동두천시'\n",
    "spots.loc[spots['addr']=='경기도 포천시영중면','addr']='경기도 포천시'\n",
    "spots.loc[spots['addr']=='경상남도 통영시통영해안로','addr']='경상남도 통영시'\n",
    "spots.loc[spots['addr']=='경상북도 경주시경감로','addr']='경상북도 경주시'\n",
    "spots.loc[spots['addr']=='경상북도 울진군온정면','addr']='경상북도 울진군'\n",
    "spots.loc[spots['addr']=='전라남도 목포시북항,','addr']='전라남도 목포시'\n",
    "spots.loc[spots['addr']=='전라남도 여수시박람회길','addr']='전라남도 여수시'\n",
    "spots.loc[spots['addr']=='전라남도 여수시소라면','addr']='전라남도 여수시'\n",
    "spots.loc[spots['addr']=='전라북도 무주군설천면(삼공리,','addr']='전라북도 무주군'\n",
    "spots.loc[spots['addr']=='충청남도 보령시신흑동,','addr']='충청남도 보령시'\n",
    "spots.loc[spots['addr']=='충청남도 아산시음봉면','addr']='충청남도 아산시'\n",
    "spots.loc[spots['addr']=='강원도강릉시,','addr']='강원도 강릉시'"
   ]
  },
  {
   "cell_type": "code",
   "execution_count": 19,
   "metadata": {},
   "outputs": [],
   "source": [
    "spots_final = spots[spots.addr!='삭제']"
   ]
  },
  {
   "cell_type": "code",
   "execution_count": 20,
   "metadata": {},
   "outputs": [
    {
     "data": {
      "text/plain": [
       "array(['강원도 강릉시', '강원도 고성군', '강원도 동해시', '강원도 삼척시', '강원도 속초시', '강원도 양구군',\n",
       "       '강원도 양양군', '강원도 영월군', '강원도 원주시', '강원도 인제군', '강원도 정선군', '강원도 철원군',\n",
       "       '강원도 춘천시', '강원도 태백시', '강원도 평창군', '강원도 홍천군', '강원도 화천군', '강원도 횡성군',\n",
       "       '경기도 가평군', '경기도 고양시', '경기도 과천시', '경기도 광명시', '경기도 광주시', '경기도 구리시',\n",
       "       '경기도 군포시', '경기도 김포시', '경기도 남양주시', '경기도 동두천시', '경기도 부천시', '경기도 성남시',\n",
       "       '경기도 수원시', '경기도 시흥시', '경기도 안산시', '경기도 안성시', '경기도 안양시', '경기도 양주시',\n",
       "       '경기도 양평군', '경기도 여주시', '경기도 연천군', '경기도 오산시', '경기도 용인시', '경기도 의왕시',\n",
       "       '경기도 의정부시', '경기도 이천시', '경기도 파주시', '경기도 평택시', '경기도 포천시', '경기도 하남시',\n",
       "       '경기도 화성시', '경상남도 거제시', '경상남도 거창군', '경상남도 고성군', '경상남도 김해시',\n",
       "       '경상남도 남해군', '경상남도 밀양시', '경상남도 사천시', '경상남도 산청군', '경상남도 양산시',\n",
       "       '경상남도 의령군', '경상남도 진주시', '경상남도 창녕군', '경상남도 창원시', '경상남도 통영시',\n",
       "       '경상남도 하동군', '경상남도 함안군', '경상남도 함양군', '경상남도 합천군', '경상북도 경산시',\n",
       "       '경상북도 경주시', '경상북도 고령군', '경상북도 구미시', '경상북도 군위군', '경상북도 김천시',\n",
       "       '경상북도 문경시', '경상북도 봉화군', '경상북도 상주시', '경상북도 성주군', '경상북도 안동시',\n",
       "       '경상북도 영덕군', '경상북도 영양군', '경상북도 영주시', '경상북도 영천시', '경상북도 예천군',\n",
       "       '경상북도 울릉군', '경상북도 울진군', '경상북도 의성군', '경상북도 청도군', '경상북도 청송군',\n",
       "       '경상북도 칠곡군', '경상북도 포항시', '광주광역시', '대구광역시', '대전광역시', '부산광역시',\n",
       "       '서울특별시', '세종특별자치시', '울산광역시', '인천광역시', '전라남도 강진군', '전라남도 고흥군',\n",
       "       '전라남도 곡성군', '전라남도 광양시', '전라남도 구례군', '전라남도 나주시', '전라남도 담양군',\n",
       "       '전라남도 목포시', '전라남도 무안군', '전라남도 보성군', '전라남도 순천시', '전라남도 신안군',\n",
       "       '전라남도 여수시', '전라남도 영광군', '전라남도 영암군', '전라남도 완도군', '전라남도 장성군',\n",
       "       '전라남도 장흥군', '전라남도 진도군', '전라남도 함평군', '전라남도 해남군', '전라남도 화순군',\n",
       "       '전라북도 고창군', '전라북도 군산시', '전라북도 김제시', '전라북도 남원시', '전라북도 무주군',\n",
       "       '전라북도 부안군', '전라북도 순창군', '전라북도 완주군', '전라북도 익산시', '전라북도 임실군',\n",
       "       '전라북도 장수군', '전라북도 전주시', '전라북도 정읍시', '전라북도 진안군', '제주특별자치도',\n",
       "       '충청남도 계룡시', '충청남도 공주시', '충청남도 금산군', '충청남도 논산시', '충청남도 당진시',\n",
       "       '충청남도 보령시', '충청남도 부여군', '충청남도 서산시', '충청남도 서천군', '충청남도 아산시',\n",
       "       '충청남도 예산군', '충청남도 천안시', '충청남도 청양군', '충청남도 태안군', '충청남도 홍성군',\n",
       "       '충청북도 괴산군', '충청북도 단양군', '충청북도 보은군', '충청북도 영동군', '충청북도 옥천군',\n",
       "       '충청북도 음성군', '충청북도 제천시', '충청북도 증평군', '충청북도 진천군', '충청북도 청주시',\n",
       "       '충청북도 충주시'], dtype=object)"
      ]
     },
     "execution_count": 20,
     "metadata": {},
     "output_type": "execute_result"
    }
   ],
   "source": [
    "spots_final.addr.sort_values().unique()"
   ]
  },
  {
   "cell_type": "code",
   "execution_count": 21,
   "metadata": {},
   "outputs": [
    {
     "name": "stdout",
     "output_type": "stream",
     "text": [
      "--- Done ---\n"
     ]
    }
   ],
   "source": [
    "spot_area = spots_final.addr.sort_values().unique()\n",
    "for la in spot_area:\n",
    "    isDone=False\n",
    "    for a in area['address']:\n",
    "        if la in a:\n",
    "            isDone=True\n",
    "    if isDone is False:\n",
    "        print(la + \"no\")\n",
    "print(\"--- Done ---\")"
   ]
  },
  {
   "cell_type": "markdown",
   "metadata": {},
   "source": [
    "### Store"
   ]
  },
  {
   "cell_type": "code",
   "execution_count": 22,
   "metadata": {},
   "outputs": [],
   "source": [
    "def getStoreAddr(row):\n",
    "    s = row['address'].strip().split(\" \")\n",
    "    try:\n",
    "        if '서울' in s[0]:\n",
    "            return '서울특별시'\n",
    "        elif '인천' in s[0]:\n",
    "            return \"인천광역시\"\n",
    "        elif '대전' in s[0]:\n",
    "            return \"대전광역시\"\n",
    "        elif '대구' in s[0]:\n",
    "            return \"대구광역시\"\n",
    "        elif '울산' in s[0]:\n",
    "            return \"울산광역시\"\n",
    "        elif '부산' in s[0]:\n",
    "            return \"부산광역시\"\n",
    "        elif '세종' in s[0]:\n",
    "            return \"세종특별자치시\"\n",
    "        elif '제주' in s[0]:\n",
    "            return \"제주특별자치도\"\n",
    "\n",
    "        if len(s[0])>=5:\n",
    "            return s[0]\n",
    "        if '경기' in s[0]:\n",
    "            return \"경기도 \" + s[1]\n",
    "        elif '충북' in s[0]:\n",
    "            return \"충청북도 \"+s[1]\n",
    "        elif '충남' in s[0]:\n",
    "            return \"충청남도 \"+s[1]\n",
    "        elif '경북' in s[0]:\n",
    "            return \"경상북도 \"+s[1]\n",
    "        elif '경남' in s[0]:\n",
    "            return \"경상남도 \"+s[1]\n",
    "        elif '전북' in s[0]:\n",
    "            return \"전라북도 \"+s[1]\n",
    "        elif '전남' in s[0]:\n",
    "            return \"전라남도 \"+s[1]\n",
    "        elif '강원' in s[0]:\n",
    "            return \"강원도 \"+s[1]\n",
    "        elif '동' in s[0]:\n",
    "            return \"CHECK\"\n",
    "        \n",
    "        return s[0]+\" \"+s[1]\n",
    "    except:\n",
    "        return \"ERROR\"\n",
    "stores['addr']=stores.apply(getStoreAddr,axis=1)"
   ]
  },
  {
   "cell_type": "code",
   "execution_count": 23,
   "metadata": {},
   "outputs": [
    {
     "data": {
      "text/plain": [
       "array(['CHECK', 'ERROR', '강원도 ', '강원도 강릉시', '강원도 고성군', '강원도 동해시',\n",
       "       '강원도 동회동', '강원도 삼척시', '강원도 속초시', '강원도 속초시교동', '강원도 양구군', '강원도 양구읍',\n",
       "       '강원도 양양군', '강원도 영월군', '강원도 원주시', '강원도 인제군', '강원도 정선군', '강원도 철원군',\n",
       "       '강원도 춘천시', '강원도 춘천시석사동', '강원도 태백시', '강원도 평창군', '강원도 홍천군',\n",
       "       '강원도 화천군', '강원도 횡성군', '경기도 ', '경기도 가평군', '경기도 고양시', '경기도 고양시덕양구',\n",
       "       '경기도 과천시', '경기도 광명시', '경기도 광주', '경기도 광주시', '경기도 구리시', '경기도 구리시토평동',\n",
       "       '경기도 군포시', '경기도 김포시', '경기도 남양주', '경기도 남양주시', '경기도 단원구', '경기도 덕양구',\n",
       "       '경기도 도', '경기도 도고양시', '경기도 도성남시', '경기도 도안양시', '경기도 도용인시',\n",
       "       '경기도 동두천시', '경기도 망월동', '경기도 별내동', '경기도 부천시', '경기도 분당구', '경기도 성남도시',\n",
       "       '경기도 성남시', '경기도 소흘읍', '경기도 수원시', '경기도 수정구', '경기도 수지구', '경기도 시흥시',\n",
       "       '경기도 신읍동', '경기도 안산시', '경기도 안성시', '경기도 안양시', '경기도 안중읍', '경기도 양성면',\n",
       "       '경기도 양주시', '경기도 양평군', '경기도 여주', '경기도 여주군', '경기도 여주시', '경기도 역곡1동',\n",
       "       '경기도 연천군', '경기도 오산시', '경기도 왕곡동', '경기도 용인시', '경기도 의왕시', '경기도 의정부동',\n",
       "       '경기도 의정부시', '경기도 이천시', '경기도 일산동구', '경기도 청북면', '경기도 파주시', '경기도 팔달구',\n",
       "       '경기도 평택시', '경기도 포천시', '경기도 하남시', '경기도 화성시', '경기도고양시', '경기도성남시',\n",
       "       '경산남도 양산시', '경상남도 거제시', '경상남도 거제시고현동', '경상남도 거창군', '경상남도 고성군',\n",
       "       '경상남도 김해시', '경상남도 남해군', '경상남도 남해읍', '경상남도 밀양시', '경상남도 사천시',\n",
       "       '경상남도 산청군', '경상남도 양산시', '경상남도 의령군', '경상남도 진영읍', '경상남도 진주시',\n",
       "       '경상남도 창녕군', '경상남도 창원시', '경상남도 창원시성산구', '경상남도 통영시', '경상남도 하동군',\n",
       "       '경상남도 함안군', '경상남도 함양군', '경상남도 합천군', '경상북도 경산시', '경상북도 경주시',\n",
       "       '경상북도 고령군', '경상북도 구미시', '경상북도 군위군', '경상북도 김천시', '경상북도 농소면',\n",
       "       '경상북도 문경시', '경상북도 봉화군', '경상북도 상주시', '경상북도 성주군', '경상북도 안동시',\n",
       "       '경상북도 안동시옥동', '경상북도 영덕군', '경상북도 영양군', '경상북도 영주시', '경상북도 영천시',\n",
       "       '경상북도 예천군', '경상북도 울릉군', '경상북도 울진군', '경상북도 의성군', '경상북도 청도군',\n",
       "       '경상북도 청송군', '경상북도 칠곡군', '경상북도 포항시', '경상북도문경시', '경원동3가', '고양시 덕양구',\n",
       "       '고양시 일산서구', '광구광역시', '광주 광산구', '광주 남구', '광주 동구', '광주 북구', '광주 서구',\n",
       "       '광주광역시', '광주시 ', '광주시 광산구', '광주시 남구', '광주시 동구', '광주시 북구', '광주시 서구',\n",
       "       '군산 수송동', '군산시 나운동', '금남면 집현리', '기도 여주시', '남양주시 와부읍', '대구광역시',\n",
       "       '대전광역시', '라북도 남원시', '부산광역시', '부천시 상동', '부천시 오정구', '북이면 옥수리',\n",
       "       '서울특별시', '서특별시 도봉구', '성남시 분당구', '성남시 중원구', '세종특별자치시', '수원시 권선구',\n",
       "       '수원시 영통구', '수원시 팔달구', '신경리 1184', '안산시 단원구', '안중읍 현화리', '여수시 남면',\n",
       "       '오산시 원동', '울산광역시', '울특별시 강동구', '은평구 진관동', '의왕시 학의동', '인천광역시',\n",
       "       '장군면 봉안리', '전광역시 서구', '전라남도 강진군', '전라남도 고흥군', '전라남도 곡성군',\n",
       "       '전라남도 광양시', '전라남도 구례군', '전라남도 나주시', '전라남도 담양군', '전라남도 목포시',\n",
       "       '전라남도 무안군', '전라남도 보성군', '전라남도 순천시', '전라남도 신안군', '전라남도 여수시',\n",
       "       '전라남도 영광군', '전라남도 영암군', '전라남도 완도군', '전라남도 장성군', '전라남도 장흥군',\n",
       "       '전라남도 진도군', '전라남도 함평군', '전라남도 해남군', '전라남도 해룡면', '전라남도 행동',\n",
       "       '전라남도 화순군', '전라북도 고창군', '전라북도 군산시', '전라북도 김제시', '전라북도 남원시',\n",
       "       '전라북도 내장동', '전라북도 덕진구', '전라북도 무주군', '전라북도 변산면', '전라북도 부안군',\n",
       "       '전라북도 순창군', '전라북도 신동', '전라북도 완주군', '전라북도 익산시', '전라북도 익산시모현동1가',\n",
       "       '전라북도 임실군', '전라북도 장수군', '전라북도 전주시', '전라북도 정읍시', '전라북도 진안군',\n",
       "       '전북무주군', '전주시 완산구', '제주특별자치도', '조치원읍 서창리', '조치원읍 신흥리', '조치원읍 침산리',\n",
       "       '종로구 낙원동', '지번 경기도', '천안시 동남구신방동', '충청남도 ', '충청남도 계룡시', '충청남도 공주시',\n",
       "       '충청남도 금산군', '충청남도 논산시', '충청남도 당진군', '충청남도 당진시', '충청남도 보령시',\n",
       "       '충청남도 부여군', '충청남도 서북구', '충청남도 서산시', '충청남도 서천군', '충청남도 송악읍',\n",
       "       '충청남도 신평면', '충청남도 아산시', '충청남도 안면읍', '충청남도 예산군', '충청남도 천안시',\n",
       "       '충청남도 천안시동남구', '충청남도 청양군', '충청남도 태안군', '충청남도 홍성군', '충청북도 괴산군',\n",
       "       '충청북도 단양군', '충청북도 보은군', '충청북도 보은읍', '충청북도 영동군', '충청북도 옥천군',\n",
       "       '충청북도 음성군', '충청북도 제천시', '충청북도 증평군', '충청북도 진천군', '충청북도 청원군',\n",
       "       '충청북도 청주시', '충청북도 충주시', '파주시 문산읍', '평택시 세교동', '포천시 소흘읍', '포천시 이동면',\n",
       "       '포항시 남구', '홍천군 서면', '화성시 서신면', '화성시 정남면'], dtype=object)"
      ]
     },
     "execution_count": 23,
     "metadata": {},
     "output_type": "execute_result"
    }
   ],
   "source": [
    "stores.addr.sort_values().unique()"
   ]
  },
  {
   "cell_type": "code",
   "execution_count": 24,
   "metadata": {},
   "outputs": [],
   "source": [
    "stores.loc[stores['addr']=='강원도 동회동','addr']=\"강원도 동해시\""
   ]
  },
  {
   "cell_type": "code",
   "execution_count": 25,
   "metadata": {},
   "outputs": [],
   "source": [
    "stores.loc[stores['addr'].str.contains('속초시'),'addr']=\"강원도 속초시\""
   ]
  },
  {
   "cell_type": "code",
   "execution_count": 26,
   "metadata": {},
   "outputs": [],
   "source": [
    "stores.loc[stores['addr'].str.contains('양구읍'),'addr']=\"강원도 양구군\"\n",
    "stores.loc[stores['addr'].str.contains('춘천시'),'addr']=\"강원도 춘천시\"\n",
    "stores.loc[stores['addr'].str.contains('고양시'),'addr']=\"경기도 고양시\"\n",
    "stores.loc[stores['addr'].str.contains('경기도 구리'),'addr']=\"경기도 구리시\"\n",
    "stores.loc[stores['addr'].str.contains('경기도 단원'),'addr']=\"경기도 안산시\"\n",
    "stores.loc[stores['addr'].str.contains('경기도 덕양'),'addr']=\"경기도 고양시\"\n",
    "stores.loc[stores['addr'].str.contains('성남시'),'addr']=\"경기도 성남시\"\n",
    "stores.loc[stores['addr'].str.contains('안양시'),'addr']=\"경기도 안양시\"\n",
    "stores.loc[stores['addr'].str.contains('용인시'),'addr']=\"경기도 용인시\"\n",
    "stores.loc[stores['addr'].str.contains('망월동'),'addr']=\"경기도 하남시\"\n",
    "stores.loc[stores['addr'].str.contains('별내동'),'addr']=\"경기도 남양주시\"\n",
    "stores.loc[stores['addr'].str.contains('분당'),'addr']=\"경기도 성남시\"\n",
    "stores.loc[stores['addr'].str.contains('성남'),'addr']=\"경기도 성남시\"\n",
    "stores.loc[stores['addr'].str.contains('소흘읍'),'addr']=\"경기도 고양시\"\n",
    "stores.loc[stores['addr'].str.contains('경기도 수정구'),'addr']=\"경기도 성남시\"\n",
    "stores.loc[stores['addr'].str.contains('경기도 수지구'),'addr']=\"경기도 용인시\"\n",
    "stores.loc[stores['addr'].str.contains('경기도 신읍동'),'addr']=\"경기도 포천시\""
   ]
  },
  {
   "cell_type": "code",
   "execution_count": 27,
   "metadata": {},
   "outputs": [],
   "source": [
    "stores.loc[stores['addr'].str.contains('안중읍'),'addr']=\"경기도 평택시\"\n",
    "stores.loc[stores['addr'].str.contains('양성면'),'addr']=\"경기도 안성시\"\n",
    "stores.loc[stores['addr'].str.contains('여주'),'addr']=\"경기도 여주시\"\n",
    "stores.loc[stores['addr'].str.contains('역곡1동'),'addr']=\"경기도 부천시\"\n",
    "stores.loc[stores['addr'].str.contains('왕곡동'),'addr']=\"경기도 의왕시\"\n",
    "stores.loc[stores['addr'].str.contains('의정부'),'addr']=\"경기도 의정부시\"\n",
    "stores.loc[stores['addr'].str.contains('일산'),'addr']=\"경기도 고양시\"\n",
    "stores.loc[stores['addr'].str.contains('청북면'),'addr']=\"경기도 평택시\"\n",
    "stores.loc[stores['addr'].str.contains('팔달구'),'addr']=\"경기도 수원시\"\n",
    "stores.loc[stores['addr'].str.contains('거제'),'addr']=\"경상남도 거제시\"\n",
    "stores.loc[stores['addr'].str.contains('경상남도 남해'),'addr']=\"경상남도 남해군\"\n",
    "stores.loc[stores['addr'].str.contains('경상남도 진영'),'addr']=\"경상남도 김해시\"\n",
    "stores.loc[stores['addr'].str.contains('창원시'),'addr']=\"경상남도 창원시\"\n",
    "stores.loc[stores['addr'].str.contains('농소면'),'addr']=\"경상북도 김천시\""
   ]
  },
  {
   "cell_type": "code",
   "execution_count": 28,
   "metadata": {},
   "outputs": [],
   "source": [
    "stores.loc[stores['addr'].str.contains('안동시'),'addr']=\"경상북도 안동시\"\n",
    "stores.loc[stores['addr'].str.contains('문경시'),'addr']=\"경상북도 문경시\"\n",
    "stores.loc[stores['addr'].str.contains('경원동3가'),'addr']=\"전라북도 전주시\"\n",
    "stores.loc[stores['addr'].str.contains('광구광역시'),'addr']=\"광주광역시\"\n",
    "\n",
    "stores.loc[stores['addr'].str.contains('군산'),'addr']=\"전라북도 군산시\"\n",
    "stores.loc[stores['addr'].str.contains('고양시'),'addr']=\"경기도 고양시\"\n",
    "\n",
    "stores.loc[stores['addr'].str.contains('금남면'),'addr']=\"세종특별자치시\"\n",
    "stores.loc[stores['addr'].str.contains('조치원'),'addr']=\"세종특별자치시\"\n",
    "stores.loc[stores['addr'].str.contains('남양주시'),'addr']=\"경기도 남양주시\"\n",
    "stores.loc[stores['addr'].str.contains('북이면'),'addr']=\"충청북도 청주시\"\n",
    "stores.loc[stores['addr'].str.contains('특별시'),'addr']=\"서울특별시\"\n",
    "stores.loc[stores['addr'].str.contains('수원시'),'addr']=\"경기도 수원시\"\n",
    "stores.loc[stores['addr'].str.contains('신경리'),'addr']=\"충청남도 홍성군\"\n",
    "stores.loc[stores['addr'].str.contains('안중읍'),'addr']=\"경기도 평택시\"\n",
    "stores.loc[stores['addr'].str.contains('여수시'),'addr']=\"전라남도 여수시\"\n",
    "stores.loc[stores['addr'].str.contains('오산시'),'addr']=\"경기도 오산시\"\n",
    "stores.loc[stores['addr'].str.contains('은평구'),'addr']=\"서울특별시\"\n",
    "stores.loc[stores['addr'].str.contains('의왕시'),'addr']=\"경기도 의왕시\"\n",
    "stores.loc[stores['addr'].str.contains('장군면'),'addr']=\"세종특별자치시\"\n",
    "stores.loc[stores['addr'].str.contains('해룡면'),'addr']=\"전라남도 순천시\"\n",
    "\n",
    "\n",
    "stores.loc[stores['addr'].str.contains('행동'),'addr']=\"전라남도 순천시\"\n",
    "stores.loc[stores['addr'].str.contains('내장동'),'addr']=\"전라북도 정읍시\"\n",
    "stores.loc[stores['addr'].str.contains('덕진구'),'addr']=\"전라북도 전주시\"\n",
    "stores.loc[stores['addr'].str.contains('변산'),'addr']=\"전라북도 부안군\"\n",
    "stores.loc[stores['addr'].str.contains('신동'),'addr']=\"전라북도 익산시\"\n",
    "stores.loc[stores['addr'].str.contains('익산시'),'addr']=\"전라북도 익산시\"\n",
    "\n",
    "stores.loc[stores['addr'].str.contains('무주'),'addr']=\"전라북도 무주군\"\n",
    "stores.loc[stores['addr'].str.contains('제주특별'),'addr']=\"제주특별자치도\"\n",
    "\n",
    "stores.loc[stores['addr'].str.contains('종로구'),'addr']=\"서울특별시\"\n",
    "stores.loc[stores['addr'].str.contains('지번 경기도'),'addr']=\"경기도 화성시\"\n",
    "\n",
    "stores.loc[stores['addr'].str.contains('고양시'),'addr']=\"경기도 고양시\"\n",
    "stores.loc[stores['addr'].str.contains('천안'),'addr']=\"충청남도 천안시\"\n",
    "stores.loc[stores['addr'].str.contains('당진'),'addr']=\"충청남도 당진시\"\n",
    "stores.loc[stores['addr'].str.contains('송악읍'),'addr']=\"충청남도 아산시\"\n",
    "stores.loc[stores['addr'].str.contains('신평면'),'addr']=\"충청남도 당진시\"\n",
    "stores.loc[stores['addr'].str.contains('안면읍'),'addr']=\"충청남도 태안군\"\n",
    "stores.loc[stores['addr'].str.contains('청원군'),'addr']=\"충청북도 청주시\"\n",
    "\n",
    "stores.loc[stores['addr'].str.contains('파주시'),'addr']=\"경기도 파주시\"\n",
    "stores.loc[stores['addr'].str.contains('평택'),'addr']=\"경기도 평택시\"\n",
    "stores.loc[stores['addr'].str.contains('포천시'),'addr']=\"경기도 포천시\"\n",
    "stores.loc[stores['addr'].str.contains('홍천군'),'addr']=\"강원도 홍천군\"\n",
    "\n",
    "stores.loc[stores['addr'].str.contains('화성시'),'addr']=\"경기도 화성시\"\n",
    "\n",
    "\n",
    "\n"
   ]
  },
  {
   "cell_type": "code",
   "execution_count": 29,
   "metadata": {},
   "outputs": [
    {
     "name": "stdout",
     "output_type": "stream",
     "text": [
      "CHECK no\n",
      "ERROR no\n",
      "경기도 도 no\n",
      "경산남도 양산시 no\n",
      "광주 광산구 no\n",
      "광주 남구 no\n",
      "광주 동구 no\n",
      "광주 북구 no\n",
      "광주 서구 no\n",
      "광주시 광산구 no\n",
      "광주시 남구 no\n",
      "광주시 동구 no\n",
      "광주시 북구 no\n",
      "광주시 서구 no\n",
      "부천시 상동 no\n",
      "부천시 오정구 no\n",
      "충청남도 서북구 no\n",
      "충청북도 보은읍 no\n",
      "--- Done ---\n"
     ]
    }
   ],
   "source": [
    "store_area = stores.addr.sort_values().unique()\n",
    "for la in store_area:\n",
    "    isDone=False\n",
    "    for a in area['address']:\n",
    "        if la in a:\n",
    "            isDone=True\n",
    "    if isDone is False:\n",
    "        print(la + \" no\")\n",
    "print(\"--- Done ---\")"
   ]
  },
  {
   "cell_type": "code",
   "execution_count": 30,
   "metadata": {},
   "outputs": [],
   "source": [
    "stores.loc[stores['address'].str.contains('경기 도 고양시 일산동'),'addr']=\"경기도 고양시\"\n",
    "stores.loc[stores['address'].str.contains('경기 도 양평군'),'addr']=\"경기도 양평군\"\n",
    "stores.loc[stores['addr'].str.contains('양산시'),'addr']=\"경상남도 양산시\"\n",
    "stores.loc[stores['addr'].str.contains('광주'),'addr']=\"광주광역시\"\n",
    "\n",
    "stores.loc[stores['addr'].str.contains('광주시'),'addr']=\"경기도 광주시\"\n",
    "stores.loc[stores['addr'].str.contains('부천시'),'addr']=\"경기도 부천시\"\n",
    "stores.loc[stores['addr'].str.contains('서북구'),'addr']=\"충청남도 천안시\"\n",
    "stores.loc[stores['addr'].str.contains('보은'),'addr']=\"충청북도 보은군\"\n",
    "stores.loc[stores['addr'].str.contains('남양주'),'addr']=\"경기도 남양주시\""
   ]
  },
  {
   "cell_type": "code",
   "execution_count": 31,
   "metadata": {},
   "outputs": [],
   "source": [
    "stores.loc[(stores['addr']=='ERROR')&(stores['address'].str.contains('충주')),'addr']=\"충청북도 충주시\""
   ]
  },
  {
   "cell_type": "code",
   "execution_count": 32,
   "metadata": {},
   "outputs": [],
   "source": [
    "stores.loc[(stores['addr']=='ERROR')&(stores['address'].str.contains('김해')),'addr']=\"경상남도 김해시\"\n",
    "stores.loc[(stores['addr']=='ERROR')&(stores['address'].str.contains('여주')),'addr']=\"경기도 여주시\"\n",
    "stores.loc[(stores['addr']=='ERROR')&(stores['address'].str.contains('진주')),'addr']=\"경상남도 진주시\"\n",
    "stores.loc[(stores['addr']=='ERROR')&(stores['address'].str.contains('김포')),'addr']=\"경기도 김포시\"\n",
    "stores.loc[(stores['addr']=='ERROR')&(stores['address'].str.contains('평택')),'addr']=\"경기도 평택시\"\n",
    "stores.loc[(stores['addr']=='ERROR')&(stores['address'].str.contains('화성')),'addr']=\"경기도 화성시\"\n",
    "stores.loc[(stores['addr']=='ERROR')&(stores['address'].str.contains('김천')),'addr']=\"경상북도 김천시\"\n",
    "stores.loc[(stores['addr']=='ERROR')&(stores['address'].str.contains('청주')),'addr']=\"충청북도 청주시\"\n",
    "stores.loc[(stores['addr']=='ERROR')&(stores['address'].str.contains('나주')),'addr']=\"전라남도 나주시\"\n",
    "stores.loc[(stores['addr']=='ERROR')&(stores['address'].str.contains('강동면')),'addr']=\"경상북도 경주시\""
   ]
  },
  {
   "cell_type": "code",
   "execution_count": 33,
   "metadata": {},
   "outputs": [],
   "source": [
    "stores.loc[(stores['addr']=='CHECK')&(stores['address'].str.contains('어진동')),'addr']=\"세종특별자치시\"\n",
    "stores.loc[(stores['addr']=='CHECK')&(stores['address'].str.contains('나성동')),'addr']=\"세종특별자치시\"\n",
    "stores.loc[(stores['addr']=='CHECK')&(stores['address'].str.contains('도담동')),'addr']=\"세종특별자치시\"\n",
    "stores.loc[(stores['addr']=='CHECK')&(stores['address'].str.contains('고운동')),'addr']=\"세종특별자치시\"\n",
    "stores.loc[(stores['addr']=='CHECK')&(stores['address'].str.contains('아름동')),'addr']=\"세종특별자치시\"\n",
    "stores.loc[(stores['addr']=='CHECK')&(stores['address'].str.contains('보람동')),'addr']=\"세종특별자치시\"\n",
    "stores.loc[(stores['addr']=='CHECK')&(stores['address'].str.contains('한솔동')),'addr']=\"세종특별자치시\"\n",
    "stores.loc[(stores['addr']=='CHECK')&(stores['address'].str.contains('전라북동 전주시')),'addr']=\"전라북도 전주시\"\n",
    "\n",
    "stores.loc[stores['addr']=='라북도 남원시 ','addr']='전라북도 남원시'\n",
    "stores.loc[stores['addr']=='전광역시 서구','addr']='대전광역시'\n",
    "stores.loc[stores['addr']=='안산시 단원구','addr']='경기도 안산시'\n",
    "stores.loc[stores['addr']=='전주시 완산구','addr']='전라북도 전주시'\n",
    "stores.loc[stores['addr']=='포항시 남구','addr']='경상북도 포항시'\n",
    "\n",
    "stores.loc[((stores['addr']=='충청남도 ')&(stores['address'].str.contains(\"천안시\"))),'addr']='충청남도 천안시'\n",
    "stores.loc[((stores['addr']=='충청남도 ')&(stores['address'].str.contains(\"공주시\"))),'addr']='충청남도 공주시'\n"
   ]
  },
  {
   "cell_type": "code",
   "execution_count": 34,
   "metadata": {},
   "outputs": [
    {
     "data": {
      "text/html": [
       "<div>\n",
       "<style scoped>\n",
       "    .dataframe tbody tr th:only-of-type {\n",
       "        vertical-align: middle;\n",
       "    }\n",
       "\n",
       "    .dataframe tbody tr th {\n",
       "        vertical-align: top;\n",
       "    }\n",
       "\n",
       "    .dataframe thead th {\n",
       "        text-align: right;\n",
       "    }\n",
       "</style>\n",
       "<table border=\"1\" class=\"dataframe\">\n",
       "  <thead>\n",
       "    <tr style=\"text-align: right;\">\n",
       "      <th></th>\n",
       "      <th>id</th>\n",
       "      <th>store_name</th>\n",
       "      <th>branch</th>\n",
       "      <th>area</th>\n",
       "      <th>tel</th>\n",
       "      <th>address</th>\n",
       "      <th>latitude</th>\n",
       "      <th>longitude</th>\n",
       "      <th>category</th>\n",
       "      <th>total</th>\n",
       "      <th>count</th>\n",
       "      <th>addr</th>\n",
       "    </tr>\n",
       "  </thead>\n",
       "  <tbody>\n",
       "  </tbody>\n",
       "</table>\n",
       "</div>"
      ],
      "text/plain": [
       "Empty DataFrame\n",
       "Columns: [id, store_name, branch, area, tel, address, latitude, longitude, category, total, count, addr]\n",
       "Index: []"
      ]
     },
     "execution_count": 34,
     "metadata": {},
     "output_type": "execute_result"
    }
   ],
   "source": [
    "stores[((stores['addr']=='CHECK')&(stores['total']>0))]"
   ]
  },
  {
   "cell_type": "code",
   "execution_count": 35,
   "metadata": {},
   "outputs": [
    {
     "name": "stdout",
     "output_type": "stream",
     "text": [
      "CHECK no\n",
      "--- Done ---\n"
     ]
    }
   ],
   "source": [
    "store_area = stores.addr.sort_values().unique()\n",
    "for la in store_area:\n",
    "    isDone=False\n",
    "    for a in area['address']:\n",
    "        if la in a:\n",
    "            isDone=True\n",
    "    if isDone is False:\n",
    "        print(la + \" no\")\n",
    "print(\"--- Done ---\")"
   ]
  },
  {
   "cell_type": "code",
   "execution_count": 36,
   "metadata": {},
   "outputs": [],
   "source": [
    "store_final = stores[stores.addr !='CHECK']"
   ]
  },
  {
   "cell_type": "code",
   "execution_count": 37,
   "metadata": {},
   "outputs": [
    {
     "name": "stdout",
     "output_type": "stream",
     "text": [
      "--- Done ---\n"
     ]
    }
   ],
   "source": [
    "li = store_final.addr.sort_values().unique()\n",
    "for la in li:\n",
    "    isDone=False\n",
    "    for a in area['address']:\n",
    "        if la in a:\n",
    "            isDone=True\n",
    "    if isDone is False:\n",
    "        print(la + \" no\")\n",
    "print(\"--- Done ---\")"
   ]
  },
  {
   "cell_type": "code",
   "execution_count": 38,
   "metadata": {},
   "outputs": [
    {
     "data": {
      "text/plain": [
       "array(['강원도 ', '강원도 강릉시', '강원도 고성군', '강원도 동해시', '강원도 삼척시', '강원도 속초시',\n",
       "       '강원도 양구군', '강원도 양양군', '강원도 영월군', '강원도 원주시', '강원도 인제군', '강원도 정선군',\n",
       "       '강원도 철원군', '강원도 춘천시', '강원도 태백시', '강원도 평창군', '강원도 홍천군', '강원도 화천군',\n",
       "       '강원도 횡성군', '경기도 ', '경기도 가평군', '경기도 고양시', '경기도 과천시', '경기도 광명시',\n",
       "       '경기도 구리시', '경기도 군포시', '경기도 김포시', '경기도 남양주시', '경기도 동두천시', '경기도 부천시',\n",
       "       '경기도 성남시', '경기도 수원시', '경기도 시흥시', '경기도 안산시', '경기도 안성시', '경기도 안양시',\n",
       "       '경기도 양주시', '경기도 양평군', '경기도 여주시', '경기도 연천군', '경기도 오산시', '경기도 용인시',\n",
       "       '경기도 의왕시', '경기도 의정부시', '경기도 이천시', '경기도 파주시', '경기도 평택시', '경기도 포천시',\n",
       "       '경기도 하남시', '경기도 화성시', '경상남도 거제시', '경상남도 거창군', '경상남도 고성군',\n",
       "       '경상남도 김해시', '경상남도 남해군', '경상남도 밀양시', '경상남도 사천시', '경상남도 산청군',\n",
       "       '경상남도 양산시', '경상남도 의령군', '경상남도 진주시', '경상남도 창녕군', '경상남도 창원시',\n",
       "       '경상남도 통영시', '경상남도 하동군', '경상남도 함안군', '경상남도 함양군', '경상남도 합천군',\n",
       "       '경상북도 경산시', '경상북도 경주시', '경상북도 고령군', '경상북도 구미시', '경상북도 군위군',\n",
       "       '경상북도 김천시', '경상북도 문경시', '경상북도 봉화군', '경상북도 상주시', '경상북도 성주군',\n",
       "       '경상북도 안동시', '경상북도 영덕군', '경상북도 영양군', '경상북도 영주시', '경상북도 영천시',\n",
       "       '경상북도 예천군', '경상북도 울릉군', '경상북도 울진군', '경상북도 의성군', '경상북도 청도군',\n",
       "       '경상북도 청송군', '경상북도 칠곡군', '경상북도 포항시', '광주광역시', '대구광역시', '대전광역시',\n",
       "       '라북도 남원시', '부산광역시', '서울특별시', '세종특별자치시', '울산광역시', '인천광역시',\n",
       "       '전라남도 강진군', '전라남도 고흥군', '전라남도 곡성군', '전라남도 광양시', '전라남도 구례군',\n",
       "       '전라남도 나주시', '전라남도 담양군', '전라남도 목포시', '전라남도 무안군', '전라남도 보성군',\n",
       "       '전라남도 순천시', '전라남도 신안군', '전라남도 여수시', '전라남도 영광군', '전라남도 영암군',\n",
       "       '전라남도 완도군', '전라남도 장성군', '전라남도 장흥군', '전라남도 진도군', '전라남도 함평군',\n",
       "       '전라남도 해남군', '전라남도 화순군', '전라북도 고창군', '전라북도 군산시', '전라북도 김제시',\n",
       "       '전라북도 남원시', '전라북도 무주군', '전라북도 부안군', '전라북도 순창군', '전라북도 완주군',\n",
       "       '전라북도 익산시', '전라북도 임실군', '전라북도 장수군', '전라북도 전주시', '전라북도 정읍시',\n",
       "       '전라북도 진안군', '제주특별자치도', '충청남도 계룡시', '충청남도 공주시', '충청남도 금산군',\n",
       "       '충청남도 논산시', '충청남도 당진시', '충청남도 보령시', '충청남도 부여군', '충청남도 서산시',\n",
       "       '충청남도 서천군', '충청남도 아산시', '충청남도 예산군', '충청남도 천안시', '충청남도 청양군',\n",
       "       '충청남도 태안군', '충청남도 홍성군', '충청북도 괴산군', '충청북도 단양군', '충청북도 보은군',\n",
       "       '충청북도 영동군', '충청북도 옥천군', '충청북도 음성군', '충청북도 제천시', '충청북도 증평군',\n",
       "       '충청북도 진천군', '충청북도 청주시', '충청북도 충주시'], dtype=object)"
      ]
     },
     "execution_count": 38,
     "metadata": {},
     "output_type": "execute_result"
    }
   ],
   "source": [
    "store_final.addr.sort_values().unique()"
   ]
  },
  {
   "cell_type": "code",
   "execution_count": 39,
   "metadata": {},
   "outputs": [
    {
     "name": "stderr",
     "output_type": "stream",
     "text": [
      "c:\\users\\hongju\\appdata\\local\\programs\\python\\python37-32\\lib\\site-packages\\pandas\\core\\indexing.py:494: SettingWithCopyWarning: \n",
      "A value is trying to be set on a copy of a slice from a DataFrame.\n",
      "Try using .loc[row_indexer,col_indexer] = value instead\n",
      "\n",
      "See the caveats in the documentation: http://pandas.pydata.org/pandas-docs/stable/user_guide/indexing.html#returning-a-view-versus-a-copy\n",
      "  self.obj[item] = s\n"
     ]
    },
    {
     "data": {
      "text/plain": [
       "array(['강원도 ', '강원도 강릉시', '강원도 고성군', '강원도 동해시', '강원도 삼척시', '강원도 속초시',\n",
       "       '강원도 양구군', '강원도 양양군', '강원도 영월군', '강원도 원주시', '강원도 인제군', '강원도 정선군',\n",
       "       '강원도 철원군', '강원도 춘천시', '강원도 태백시', '강원도 평창군', '강원도 홍천군', '강원도 화천군',\n",
       "       '강원도 횡성군', '경기도 ', '경기도 가평군', '경기도 고양시', '경기도 과천시', '경기도 광명시',\n",
       "       '경기도 구리시', '경기도 군포시', '경기도 김포시', '경기도 남양주시', '경기도 동두천시', '경기도 부천시',\n",
       "       '경기도 성남시', '경기도 수원시', '경기도 시흥시', '경기도 안산시', '경기도 안성시', '경기도 안양시',\n",
       "       '경기도 양주시', '경기도 양평군', '경기도 여주시', '경기도 연천군', '경기도 오산시', '경기도 용인시',\n",
       "       '경기도 의왕시', '경기도 의정부시', '경기도 이천시', '경기도 파주시', '경기도 평택시', '경기도 포천시',\n",
       "       '경기도 하남시', '경기도 화성시', '경상남도 거제시', '경상남도 거창군', '경상남도 고성군',\n",
       "       '경상남도 김해시', '경상남도 남해군', '경상남도 밀양시', '경상남도 사천시', '경상남도 산청군',\n",
       "       '경상남도 양산시', '경상남도 의령군', '경상남도 진주시', '경상남도 창녕군', '경상남도 창원시',\n",
       "       '경상남도 통영시', '경상남도 하동군', '경상남도 함안군', '경상남도 함양군', '경상남도 합천군',\n",
       "       '경상북도 경산시', '경상북도 경주시', '경상북도 고령군', '경상북도 구미시', '경상북도 군위군',\n",
       "       '경상북도 김천시', '경상북도 문경시', '경상북도 봉화군', '경상북도 상주시', '경상북도 성주군',\n",
       "       '경상북도 안동시', '경상북도 영덕군', '경상북도 영양군', '경상북도 영주시', '경상북도 영천시',\n",
       "       '경상북도 예천군', '경상북도 울릉군', '경상북도 울진군', '경상북도 의성군', '경상북도 청도군',\n",
       "       '경상북도 청송군', '경상북도 칠곡군', '경상북도 포항시', '광주광역시', '대구광역시', '대전광역시',\n",
       "       '부산광역시', '서울특별시', '세종특별자치시', '울산광역시', '인천광역시', '전라남도 강진군',\n",
       "       '전라남도 고흥군', '전라남도 곡성군', '전라남도 광양시', '전라남도 구례군', '전라남도 나주시',\n",
       "       '전라남도 담양군', '전라남도 목포시', '전라남도 무안군', '전라남도 보성군', '전라남도 순천시',\n",
       "       '전라남도 신안군', '전라남도 여수시', '전라남도 영광군', '전라남도 영암군', '전라남도 완도군',\n",
       "       '전라남도 장성군', '전라남도 장흥군', '전라남도 진도군', '전라남도 함평군', '전라남도 해남군',\n",
       "       '전라남도 화순군', '전라북도 고창군', '전라북도 군산시', '전라북도 김제시', '전라북도 남원시',\n",
       "       '전라북도 무주군', '전라북도 부안군', '전라북도 순창군', '전라북도 완주군', '전라북도 익산시',\n",
       "       '전라북도 임실군', '전라북도 장수군', '전라북도 전주시', '전라북도 정읍시', '전라북도 진안군',\n",
       "       '제주특별자치도', '충청남도 계룡시', '충청남도 공주시', '충청남도 금산군', '충청남도 논산시',\n",
       "       '충청남도 당진시', '충청남도 보령시', '충청남도 부여군', '충청남도 서산시', '충청남도 서천군',\n",
       "       '충청남도 아산시', '충청남도 예산군', '충청남도 천안시', '충청남도 청양군', '충청남도 태안군',\n",
       "       '충청남도 홍성군', '충청북도 괴산군', '충청북도 단양군', '충청북도 보은군', '충청북도 영동군',\n",
       "       '충청북도 옥천군', '충청북도 음성군', '충청북도 제천시', '충청북도 증평군', '충청북도 진천군',\n",
       "       '충청북도 청주시', '충청북도 충주시'], dtype=object)"
      ]
     },
     "execution_count": 39,
     "metadata": {},
     "output_type": "execute_result"
    }
   ],
   "source": [
    "store_final.loc[store_final['addr']=='라북도 남원시','addr']='전라북도 남원시'\n",
    "store_final.addr.sort_values().unique()"
   ]
  },
  {
   "cell_type": "code",
   "execution_count": 40,
   "metadata": {},
   "outputs": [
    {
     "data": {
      "text/html": [
       "<div>\n",
       "<style scoped>\n",
       "    .dataframe tbody tr th:only-of-type {\n",
       "        vertical-align: middle;\n",
       "    }\n",
       "\n",
       "    .dataframe tbody tr th {\n",
       "        vertical-align: top;\n",
       "    }\n",
       "\n",
       "    .dataframe thead th {\n",
       "        text-align: right;\n",
       "    }\n",
       "</style>\n",
       "<table border=\"1\" class=\"dataframe\">\n",
       "  <thead>\n",
       "    <tr style=\"text-align: right;\">\n",
       "      <th></th>\n",
       "      <th>id</th>\n",
       "      <th>store_name</th>\n",
       "      <th>branch</th>\n",
       "      <th>area</th>\n",
       "      <th>tel</th>\n",
       "      <th>address</th>\n",
       "      <th>latitude</th>\n",
       "      <th>longitude</th>\n",
       "      <th>category</th>\n",
       "      <th>total</th>\n",
       "      <th>count</th>\n",
       "      <th>addr</th>\n",
       "    </tr>\n",
       "  </thead>\n",
       "  <tbody>\n",
       "    <tr>\n",
       "      <th>166321</th>\n",
       "      <td>166333</td>\n",
       "      <td>바우 옹심이메밀칼국수</td>\n",
       "      <td>NaN</td>\n",
       "      <td>춘천</td>\n",
       "      <td>033-243-2010</td>\n",
       "      <td>강원도  춘천시  우두동  1057-4</td>\n",
       "      <td>37.8994</td>\n",
       "      <td>127.728</td>\n",
       "      <td>옹심이|메밀칼국수</td>\n",
       "      <td>9.0</td>\n",
       "      <td>2.0</td>\n",
       "      <td>강원도</td>\n",
       "    </tr>\n",
       "  </tbody>\n",
       "</table>\n",
       "</div>"
      ],
      "text/plain": [
       "            id   store_name branch area           tel                address  \\\n",
       "166321  166333  바우 옹심이메밀칼국수    NaN   춘천  033-243-2010  강원도  춘천시  우두동  1057-4   \n",
       "\n",
       "       latitude longitude   category  total  count  addr  \n",
       "166321  37.8994   127.728  옹심이|메밀칼국수    9.0    2.0  강원도   "
      ]
     },
     "execution_count": 40,
     "metadata": {},
     "output_type": "execute_result"
    }
   ],
   "source": [
    "store_final[store_final['addr']==\"강원도 \"]"
   ]
  },
  {
   "cell_type": "code",
   "execution_count": 41,
   "metadata": {},
   "outputs": [
    {
     "data": {
      "text/plain": [
       "array(['강원도 강릉시', '강원도 고성군', '강원도 동해시', '강원도 삼척시', '강원도 속초시', '강원도 양구군',\n",
       "       '강원도 양양군', '강원도 영월군', '강원도 원주시', '강원도 인제군', '강원도 정선군', '강원도 철원군',\n",
       "       '강원도 춘천시', '강원도 태백시', '강원도 평창군', '강원도 홍천군', '강원도 화천군', '강원도 횡성군',\n",
       "       '경기도 ', '경기도 가평군', '경기도 고양시', '경기도 과천시', '경기도 광명시', '경기도 구리시',\n",
       "       '경기도 군포시', '경기도 김포시', '경기도 남양주시', '경기도 동두천시', '경기도 부천시', '경기도 성남시',\n",
       "       '경기도 수원시', '경기도 시흥시', '경기도 안산시', '경기도 안성시', '경기도 안양시', '경기도 양주시',\n",
       "       '경기도 양평군', '경기도 여주시', '경기도 연천군', '경기도 오산시', '경기도 용인시', '경기도 의왕시',\n",
       "       '경기도 의정부시', '경기도 이천시', '경기도 파주시', '경기도 평택시', '경기도 포천시', '경기도 하남시',\n",
       "       '경기도 화성시', '경상남도 거제시', '경상남도 거창군', '경상남도 고성군', '경상남도 김해시',\n",
       "       '경상남도 남해군', '경상남도 밀양시', '경상남도 사천시', '경상남도 산청군', '경상남도 양산시',\n",
       "       '경상남도 의령군', '경상남도 진주시', '경상남도 창녕군', '경상남도 창원시', '경상남도 통영시',\n",
       "       '경상남도 하동군', '경상남도 함안군', '경상남도 함양군', '경상남도 합천군', '경상북도 경산시',\n",
       "       '경상북도 경주시', '경상북도 고령군', '경상북도 구미시', '경상북도 군위군', '경상북도 김천시',\n",
       "       '경상북도 문경시', '경상북도 봉화군', '경상북도 상주시', '경상북도 성주군', '경상북도 안동시',\n",
       "       '경상북도 영덕군', '경상북도 영양군', '경상북도 영주시', '경상북도 영천시', '경상북도 예천군',\n",
       "       '경상북도 울릉군', '경상북도 울진군', '경상북도 의성군', '경상북도 청도군', '경상북도 청송군',\n",
       "       '경상북도 칠곡군', '경상북도 포항시', '광주광역시', '대구광역시', '대전광역시', '부산광역시',\n",
       "       '서울특별시', '세종특별자치시', '울산광역시', '인천광역시', '전라남도 강진군', '전라남도 고흥군',\n",
       "       '전라남도 곡성군', '전라남도 광양시', '전라남도 구례군', '전라남도 나주시', '전라남도 담양군',\n",
       "       '전라남도 목포시', '전라남도 무안군', '전라남도 보성군', '전라남도 순천시', '전라남도 신안군',\n",
       "       '전라남도 여수시', '전라남도 영광군', '전라남도 영암군', '전라남도 완도군', '전라남도 장성군',\n",
       "       '전라남도 장흥군', '전라남도 진도군', '전라남도 함평군', '전라남도 해남군', '전라남도 화순군',\n",
       "       '전라북도 고창군', '전라북도 군산시', '전라북도 김제시', '전라북도 남원시', '전라북도 무주군',\n",
       "       '전라북도 부안군', '전라북도 순창군', '전라북도 완주군', '전라북도 익산시', '전라북도 임실군',\n",
       "       '전라북도 장수군', '전라북도 전주시', '전라북도 정읍시', '전라북도 진안군', '제주특별자치도',\n",
       "       '충청남도 계룡시', '충청남도 공주시', '충청남도 금산군', '충청남도 논산시', '충청남도 당진시',\n",
       "       '충청남도 보령시', '충청남도 부여군', '충청남도 서산시', '충청남도 서천군', '충청남도 아산시',\n",
       "       '충청남도 예산군', '충청남도 천안시', '충청남도 청양군', '충청남도 태안군', '충청남도 홍성군',\n",
       "       '충청북도 괴산군', '충청북도 단양군', '충청북도 보은군', '충청북도 영동군', '충청북도 옥천군',\n",
       "       '충청북도 음성군', '충청북도 제천시', '충청북도 증평군', '충청북도 진천군', '충청북도 청주시',\n",
       "       '충청북도 충주시'], dtype=object)"
      ]
     },
     "execution_count": 41,
     "metadata": {},
     "output_type": "execute_result"
    }
   ],
   "source": [
    "store_final.loc[store_final['addr']==\"강원도 \",'addr']=\"강원도 춘천시\"\n",
    "store_final.addr.sort_values().unique()"
   ]
  },
  {
   "cell_type": "code",
   "execution_count": 42,
   "metadata": {},
   "outputs": [
    {
     "data": {
      "text/html": [
       "<div>\n",
       "<style scoped>\n",
       "    .dataframe tbody tr th:only-of-type {\n",
       "        vertical-align: middle;\n",
       "    }\n",
       "\n",
       "    .dataframe tbody tr th {\n",
       "        vertical-align: top;\n",
       "    }\n",
       "\n",
       "    .dataframe thead th {\n",
       "        text-align: right;\n",
       "    }\n",
       "</style>\n",
       "<table border=\"1\" class=\"dataframe\">\n",
       "  <thead>\n",
       "    <tr style=\"text-align: right;\">\n",
       "      <th></th>\n",
       "      <th>id</th>\n",
       "      <th>store_name</th>\n",
       "      <th>branch</th>\n",
       "      <th>area</th>\n",
       "      <th>tel</th>\n",
       "      <th>address</th>\n",
       "      <th>latitude</th>\n",
       "      <th>longitude</th>\n",
       "      <th>category</th>\n",
       "      <th>total</th>\n",
       "      <th>count</th>\n",
       "      <th>addr</th>\n",
       "    </tr>\n",
       "  </thead>\n",
       "  <tbody>\n",
       "  </tbody>\n",
       "</table>\n",
       "</div>"
      ],
      "text/plain": [
       "Empty DataFrame\n",
       "Columns: [id, store_name, branch, area, tel, address, latitude, longitude, category, total, count, addr]\n",
       "Index: []"
      ]
     },
     "execution_count": 42,
     "metadata": {},
     "output_type": "execute_result"
    }
   ],
   "source": [
    "store_final[store_final['addr']==\"경기도 남양주\"]"
   ]
  },
  {
   "cell_type": "code",
   "execution_count": 43,
   "metadata": {},
   "outputs": [],
   "source": [
    "store_final.loc[((store_final['addr']==\"경기도 \")&(store_final['address'].str.contains(\"성남시\"))),'addr']=\"경기도 성남시\"\n",
    "store_final.loc[((store_final['addr']==\"경기도 \")&(store_final['address'].str.contains(\"의왕시\"))),'addr']=\"경기도 의왕시\"\n",
    "store_final.loc[((store_final['addr']==\"경기도 \")&(store_final['address'].str.contains(\"오산시\"))),'addr']=\"경기도 오산시\"\n",
    "store_final.loc[((store_final['addr']==\"경기도 \")&(store_final['address'].str.contains(\"양평군\"))),'addr']=\"경기도 양평군\"\n",
    "store_final.loc[((store_final['addr']==\"경기도 \")&(store_final['address'].str.contains(\"김포시\"))),'addr']=\"경기도 김포시\"\n",
    "store_final.loc[((store_final['addr']==\"경기도 \")&(store_final['address'].str.contains(\"용인시\"))),'addr']=\"경기도 용인시\"\n",
    "store_final.loc[((store_final['addr']==\"경기도 \")&(store_final['address'].str.contains(\"평택시\"))),'addr']=\"경기도 평택시\"\n",
    "store_final.loc[((store_final['addr']==\"경기도 \")&(store_final['address'].str.contains(\"안양시\"))),'addr']=\"경기도 안양시\"\n",
    "store_final.loc[((store_final['addr']==\"경기도 \")&(store_final['address'].str.contains(\"양주시\"))),'addr']=\"경기도 양주시\"\n",
    "store_final.loc[((store_final['addr']==\"경기도 \")&(store_final['address'].str.contains(\"화성시\"))),'addr']=\"경기도 화성시\"\n",
    "\n"
   ]
  },
  {
   "cell_type": "code",
   "execution_count": 44,
   "metadata": {},
   "outputs": [
    {
     "data": {
      "text/plain": [
       "array(['강원도 강릉시', '강원도 고성군', '강원도 동해시', '강원도 삼척시', '강원도 속초시', '강원도 양구군',\n",
       "       '강원도 양양군', '강원도 영월군', '강원도 원주시', '강원도 인제군', '강원도 정선군', '강원도 철원군',\n",
       "       '강원도 춘천시', '강원도 태백시', '강원도 평창군', '강원도 홍천군', '강원도 화천군', '강원도 횡성군',\n",
       "       '경기도 가평군', '경기도 고양시', '경기도 과천시', '경기도 광명시', '경기도 구리시', '경기도 군포시',\n",
       "       '경기도 김포시', '경기도 남양주시', '경기도 동두천시', '경기도 부천시', '경기도 성남시', '경기도 수원시',\n",
       "       '경기도 시흥시', '경기도 안산시', '경기도 안성시', '경기도 안양시', '경기도 양주시', '경기도 양평군',\n",
       "       '경기도 여주시', '경기도 연천군', '경기도 오산시', '경기도 용인시', '경기도 의왕시', '경기도 의정부시',\n",
       "       '경기도 이천시', '경기도 파주시', '경기도 평택시', '경기도 포천시', '경기도 하남시', '경기도 화성시',\n",
       "       '경상남도 거제시', '경상남도 거창군', '경상남도 고성군', '경상남도 김해시', '경상남도 남해군',\n",
       "       '경상남도 밀양시', '경상남도 사천시', '경상남도 산청군', '경상남도 양산시', '경상남도 의령군',\n",
       "       '경상남도 진주시', '경상남도 창녕군', '경상남도 창원시', '경상남도 통영시', '경상남도 하동군',\n",
       "       '경상남도 함안군', '경상남도 함양군', '경상남도 합천군', '경상북도 경산시', '경상북도 경주시',\n",
       "       '경상북도 고령군', '경상북도 구미시', '경상북도 군위군', '경상북도 김천시', '경상북도 문경시',\n",
       "       '경상북도 봉화군', '경상북도 상주시', '경상북도 성주군', '경상북도 안동시', '경상북도 영덕군',\n",
       "       '경상북도 영양군', '경상북도 영주시', '경상북도 영천시', '경상북도 예천군', '경상북도 울릉군',\n",
       "       '경상북도 울진군', '경상북도 의성군', '경상북도 청도군', '경상북도 청송군', '경상북도 칠곡군',\n",
       "       '경상북도 포항시', '광주광역시', '대구광역시', '대전광역시', '부산광역시', '서울특별시', '세종특별자치시',\n",
       "       '울산광역시', '인천광역시', '전라남도 강진군', '전라남도 고흥군', '전라남도 곡성군', '전라남도 광양시',\n",
       "       '전라남도 구례군', '전라남도 나주시', '전라남도 담양군', '전라남도 목포시', '전라남도 무안군',\n",
       "       '전라남도 보성군', '전라남도 순천시', '전라남도 신안군', '전라남도 여수시', '전라남도 영광군',\n",
       "       '전라남도 영암군', '전라남도 완도군', '전라남도 장성군', '전라남도 장흥군', '전라남도 진도군',\n",
       "       '전라남도 함평군', '전라남도 해남군', '전라남도 화순군', '전라북도 고창군', '전라북도 군산시',\n",
       "       '전라북도 김제시', '전라북도 남원시', '전라북도 무주군', '전라북도 부안군', '전라북도 순창군',\n",
       "       '전라북도 완주군', '전라북도 익산시', '전라북도 임실군', '전라북도 장수군', '전라북도 전주시',\n",
       "       '전라북도 정읍시', '전라북도 진안군', '제주특별자치도', '충청남도 계룡시', '충청남도 공주시',\n",
       "       '충청남도 금산군', '충청남도 논산시', '충청남도 당진시', '충청남도 보령시', '충청남도 부여군',\n",
       "       '충청남도 서산시', '충청남도 서천군', '충청남도 아산시', '충청남도 예산군', '충청남도 천안시',\n",
       "       '충청남도 청양군', '충청남도 태안군', '충청남도 홍성군', '충청북도 괴산군', '충청북도 단양군',\n",
       "       '충청북도 보은군', '충청북도 영동군', '충청북도 옥천군', '충청북도 음성군', '충청북도 제천시',\n",
       "       '충청북도 증평군', '충청북도 진천군', '충청북도 청주시', '충청북도 충주시'], dtype=object)"
      ]
     },
     "execution_count": 44,
     "metadata": {},
     "output_type": "execute_result"
    }
   ],
   "source": [
    "store_final['addr'].sort_values().unique()"
   ]
  },
  {
   "cell_type": "markdown",
   "metadata": {},
   "source": [
    "# test"
   ]
  },
  {
   "cell_type": "code",
   "execution_count": 45,
   "metadata": {},
   "outputs": [
    {
     "data": {
      "text/plain": [
       "['서울특별시',\n",
       " '부산광역시',\n",
       " '대구광역시',\n",
       " '인천광역시',\n",
       " '광주광역시',\n",
       " '대전광역시',\n",
       " '울산광역시',\n",
       " '세종특별자치시',\n",
       " '경기도 수원시',\n",
       " '경기도 성남시',\n",
       " '경기도 고양시',\n",
       " '경기도 용인시',\n",
       " '경기도 부천시',\n",
       " '경기도 안산시',\n",
       " '경기도 안양시',\n",
       " '경기도 남양주시',\n",
       " '경기도 화성시',\n",
       " '경기도 평택시',\n",
       " '경기도 의정부시',\n",
       " '경기도 시흥시',\n",
       " '경기도 파주시',\n",
       " '경기도 광명시',\n",
       " '경기도 김포시',\n",
       " '경기도 군포시',\n",
       " '경기도 광주시',\n",
       " '경기도 이천시',\n",
       " '경기도 양주시',\n",
       " '경기도 오산시',\n",
       " '경기도 구리시',\n",
       " '경기도 안성시',\n",
       " '경기도 포천시',\n",
       " '경기도 의왕시',\n",
       " '경기도 하남시',\n",
       " '경기도 여주시',\n",
       " '경기도 양평군',\n",
       " '경기도 동두천시',\n",
       " '경기도 과천시',\n",
       " '경기도 가평군',\n",
       " '경기도 연천군',\n",
       " '강원도 춘천시',\n",
       " '강원도 원주시',\n",
       " '강원도 강릉시',\n",
       " '강원도 동해시',\n",
       " '강원도 태백시',\n",
       " '강원도 속초시',\n",
       " '강원도 삼척시',\n",
       " '강원도 홍천군',\n",
       " '강원도 횡성군',\n",
       " '강원도 영월군',\n",
       " '강원도 평창군',\n",
       " '강원도 정선군',\n",
       " '강원도 철원군',\n",
       " '강원도 화천군',\n",
       " '강원도 양구군',\n",
       " '강원도 인제군',\n",
       " '강원도 고성군',\n",
       " '강원도 양양군',\n",
       " '충청북도 청주시',\n",
       " '충청북도 충주시',\n",
       " '충청북도 제천시',\n",
       " '충청북도 보은군',\n",
       " '충청북도 옥천군',\n",
       " '충청북도 영동군',\n",
       " '충청북도 증평군',\n",
       " '충청북도 진천군',\n",
       " '충청북도 괴산군',\n",
       " '충청북도 음성군',\n",
       " '충청북도 단양군',\n",
       " '충청남도 천안시',\n",
       " '충청남도 공주시',\n",
       " '충청남도 보령시',\n",
       " '충청남도 아산시',\n",
       " '충청남도 서산시',\n",
       " '충청남도 논산시',\n",
       " '충청남도 당진시',\n",
       " '충청남도 계룡시',\n",
       " '충청남도 금산군',\n",
       " '충청남도 부여군',\n",
       " '충청남도 서천군',\n",
       " '충청남도 청양군',\n",
       " '충청남도 홍성군',\n",
       " '충청남도 예산군',\n",
       " '충청남도 태안군',\n",
       " '전라북도 전주시',\n",
       " '전라북도 군산시',\n",
       " '전라북도 익산시',\n",
       " '전라북도 정읍시',\n",
       " '전라북도 남원시',\n",
       " '전라북도 김제시',\n",
       " '전라북도 완주군',\n",
       " '전라북도 진안군',\n",
       " '전라북도 무주군',\n",
       " '전라북도 장수군',\n",
       " '전라북도 임실군',\n",
       " '전라북도 순창군',\n",
       " '전라북도 고창군',\n",
       " '전라북도 부안군',\n",
       " '전라남도 목포시',\n",
       " '전라남도 여수시',\n",
       " '전라남도 순천시',\n",
       " '전라남도 나주시',\n",
       " '전라남도 광양시',\n",
       " '전라남도 담양군',\n",
       " '전라남도 곡성군',\n",
       " '전라남도 구례군',\n",
       " '전라남도 고흥군',\n",
       " '전라남도 보성군',\n",
       " '전라남도 화순군',\n",
       " '전라남도 장흥군',\n",
       " '전라남도 강진군',\n",
       " '전라남도 해남군',\n",
       " '전라남도 영암군',\n",
       " '전라남도 무안군',\n",
       " '전라남도 함평군',\n",
       " '전라남도 영광군',\n",
       " '전라남도 장성군',\n",
       " '전라남도 완도군',\n",
       " '전라남도 진도군',\n",
       " '전라남도 신안군',\n",
       " '경상북도 포항시',\n",
       " '경상북도 경주시',\n",
       " '경상북도 김천시',\n",
       " '경상북도 안동시',\n",
       " '경상북도 구미시',\n",
       " '경상북도 영주시',\n",
       " '경상북도 영천시',\n",
       " '경상북도 상주시',\n",
       " '경상북도 문경시',\n",
       " '경상북도 경산시',\n",
       " '경상북도 군위군',\n",
       " '경상북도 의성군',\n",
       " '경상북도 청송군',\n",
       " '경상북도 영양군',\n",
       " '경상북도 영덕군',\n",
       " '경상북도 청도군',\n",
       " '경상북도 고령군',\n",
       " '경상북도 성주군',\n",
       " '경상북도 칠곡군',\n",
       " '경상북도 예천군',\n",
       " '경상북도 봉화군',\n",
       " '경상북도 울진군',\n",
       " '경상북도 울릉군',\n",
       " '경상남도 창원시',\n",
       " '경상남도 진주시',\n",
       " '경상남도 통영시',\n",
       " '경상남도 사천시',\n",
       " '경상남도 김해시',\n",
       " '경상남도 밀양시',\n",
       " '경상남도 거제시',\n",
       " '경상남도 양산시',\n",
       " '경상남도 의령군',\n",
       " '경상남도 함안군',\n",
       " '경상남도 창녕군',\n",
       " '경상남도 고성군',\n",
       " '경상남도 남해군',\n",
       " '경상남도 하동군',\n",
       " '경상남도 산청군',\n",
       " '경상남도 함양군',\n",
       " '경상남도 거창군',\n",
       " '경상남도 합천군',\n",
       " '제주특별자치도']"
      ]
     },
     "execution_count": 45,
     "metadata": {},
     "output_type": "execute_result"
    }
   ],
   "source": [
    "result = []\n",
    "for i in area['address']:\n",
    "    t = i.split(\" \")\n",
    "    if len(t[0])>=5:\n",
    "        result.append(t[0])\n",
    "    else:\n",
    "        result.append(t[0]+\" \"+t[1])\n",
    "        \n",
    "result"
   ]
  },
  {
   "cell_type": "code",
   "execution_count": 46,
   "metadata": {},
   "outputs": [],
   "source": [
    "store_final_list = store_final['addr'].sort_values().unique()"
   ]
  },
  {
   "cell_type": "code",
   "execution_count": 47,
   "metadata": {},
   "outputs": [],
   "source": [
    "spot_area_list = spots_final.addr.sort_values().unique()"
   ]
  },
  {
   "cell_type": "code",
   "execution_count": 48,
   "metadata": {},
   "outputs": [],
   "source": [
    "lodging_area_list = lodgings['addr'].sort_values().unique()"
   ]
  },
  {
   "cell_type": "code",
   "execution_count": 49,
   "metadata": {},
   "outputs": [],
   "source": [
    "for st in lodging_area_list:\n",
    "    isDone=False\n",
    "    for r in result:\n",
    "        if st==r:\n",
    "            isDone=True\n",
    "            break\n",
    "    if isDone ==False:\n",
    "        print(st+\" \"+\" no \")"
   ]
  },
  {
   "cell_type": "markdown",
   "metadata": {},
   "source": [
    "## 즈장"
   ]
  },
  {
   "cell_type": "code",
   "execution_count": 50,
   "metadata": {},
   "outputs": [],
   "source": [
    "import os"
   ]
  },
  {
   "cell_type": "code",
   "execution_count": 52,
   "metadata": {},
   "outputs": [],
   "source": [
    "store_pk= {'stores':store_final}\n",
    "spot_pk = {'spots': spots_final}\n",
    "lodging_pk = {'lodgings' : lodgings}"
   ]
  },
  {
   "cell_type": "code",
   "execution_count": 56,
   "metadata": {},
   "outputs": [],
   "source": [
    "DATA_DIR = \"./\"\n",
    "DUMP_FILE = os.path.join(DATA_DIR, \"dump_store.pkl\")\n",
    "pd.to_pickle(store_pk, DUMP_FILE)"
   ]
  },
  {
   "cell_type": "code",
   "execution_count": 54,
   "metadata": {},
   "outputs": [],
   "source": [
    "DATA_DIR = \"./\"\n",
    "DUMP_FILE = os.path.join(DATA_DIR, \"dump_spot.pkl\")\n",
    "pd.to_pickle(spot_pk, DUMP_FILE)"
   ]
  },
  {
   "cell_type": "code",
   "execution_count": 55,
   "metadata": {},
   "outputs": [],
   "source": [
    "DATA_DIR = \"./\"\n",
    "DUMP_FILE = os.path.join(DATA_DIR, \"dump_lodging.pkl\")\n",
    "pd.to_pickle(lodging_pk, DUMP_FILE)"
   ]
  }
 ],
 "metadata": {
  "kernelspec": {
   "display_name": "Python 3",
   "language": "python",
   "name": "python3"
  },
  "language_info": {
   "codemirror_mode": {
    "name": "ipython",
    "version": 3
   },
   "file_extension": ".py",
   "mimetype": "text/x-python",
   "name": "python",
   "nbconvert_exporter": "python",
   "pygments_lexer": "ipython3",
   "version": "3.7.6"
  }
 },
 "nbformat": 4,
 "nbformat_minor": 4
}
