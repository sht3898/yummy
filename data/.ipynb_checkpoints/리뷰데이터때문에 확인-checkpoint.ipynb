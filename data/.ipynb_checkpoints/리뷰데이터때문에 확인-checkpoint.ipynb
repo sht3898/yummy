{
 "cells": [
  {
   "cell_type": "code",
   "execution_count": 8,
   "metadata": {},
   "outputs": [],
   "source": [
    "import pandas as pd\n",
    "import numpy as np"
   ]
  },
  {
   "cell_type": "code",
   "execution_count": 2,
   "metadata": {},
   "outputs": [],
   "source": [
    "DATA_FILE =\"dump_with_rev_store.pkl\" # review정보 포함한것 + 주소 업데이트한 store\n",
    "DATA_STORE = 'dump_store.pkl'"
   ]
  },
  {
   "cell_type": "code",
   "execution_count": 3,
   "metadata": {},
   "outputs": [],
   "source": [
    "def _load_dataframes():\n",
    "    try:\n",
    "        data = pd.read_pickle(DATA_FILE)\n",
    "        data_store = pd.read_pickle(DATA_STORE)\n",
    "    except:\n",
    "        print(f\"[-] Reading {DATA_FILE} failed\")\n",
    "        exit(1)\n",
    "    return data, data_store"
   ]
  },
  {
   "cell_type": "code",
   "execution_count": 5,
   "metadata": {},
   "outputs": [],
   "source": [
    "dataframe, new_dataframe = _load_dataframes()"
   ]
  },
  {
   "cell_type": "code",
   "execution_count": 6,
   "metadata": {},
   "outputs": [],
   "source": [
    "origin = dataframe['stores']\n",
    "store = new_dataframe['stores']"
   ]
  },
  {
   "cell_type": "code",
   "execution_count": 17,
   "metadata": {},
   "outputs": [],
   "source": [
    "list_a = np.array(origin['id'].tolist())\n",
    "list_b = np.array(store['id'].tolist())"
   ]
  },
  {
   "cell_type": "code",
   "execution_count": 32,
   "metadata": {},
   "outputs": [
    {
     "name": "stdout",
     "output_type": "stream",
     "text": [
      "93764    0.0\n",
      "Name: count, dtype: float64\n",
      "96203    0.0\n",
      "Name: count, dtype: float64\n",
      "97149    0.0\n",
      "Name: count, dtype: float64\n",
      "107528    0.0\n",
      "Name: count, dtype: float64\n",
      "109215    0.0\n",
      "Name: count, dtype: float64\n",
      "109387    0.0\n",
      "Name: count, dtype: float64\n",
      "111763    0.0\n",
      "Name: count, dtype: float64\n",
      "115827    0.0\n",
      "Name: count, dtype: float64\n",
      "116057    0.0\n",
      "Name: count, dtype: float64\n",
      "116780    0.0\n",
      "Name: count, dtype: float64\n",
      "125197    0.0\n",
      "Name: count, dtype: float64\n",
      "125388    0.0\n",
      "Name: count, dtype: float64\n",
      "143036    0.0\n",
      "Name: count, dtype: float64\n",
      "147118    0.0\n",
      "Name: count, dtype: float64\n",
      "152707    0.0\n",
      "Name: count, dtype: float64\n",
      "154080    0.0\n",
      "Name: count, dtype: float64\n",
      "159918    0.0\n",
      "Name: count, dtype: float64\n",
      "160125    0.0\n",
      "Name: count, dtype: float64\n",
      "164943    0.0\n",
      "Name: count, dtype: float64\n",
      "171156    0.0\n",
      "Name: count, dtype: float64\n",
      "171896    0.0\n",
      "Name: count, dtype: float64\n",
      "172055    0.0\n",
      "Name: count, dtype: float64\n",
      "174988    0.0\n",
      "Name: count, dtype: float64\n",
      "184480    0.0\n",
      "Name: count, dtype: float64\n",
      "184522    0.0\n",
      "Name: count, dtype: float64\n",
      "199977    0.0\n",
      "Name: count, dtype: float64\n",
      "200487    0.0\n",
      "Name: count, dtype: float64\n",
      "208102    0.0\n",
      "Name: count, dtype: float64\n",
      "210666    0.0\n",
      "Name: count, dtype: float64\n",
      "212328    0.0\n",
      "Name: count, dtype: float64\n",
      "219968    0.0\n",
      "Name: count, dtype: float64\n",
      "228473    0.0\n",
      "Name: count, dtype: float64\n",
      "231592    0.0\n",
      "Name: count, dtype: float64\n",
      "232387    0.0\n",
      "Name: count, dtype: float64\n",
      "233609    0.0\n",
      "Name: count, dtype: float64\n",
      "249646    0.0\n",
      "Name: count, dtype: float64\n",
      "254097    0.0\n",
      "Name: count, dtype: float64\n",
      "266639    0.0\n",
      "Name: count, dtype: float64\n",
      "277489    0.0\n",
      "Name: count, dtype: float64\n",
      "280856    0.0\n",
      "Name: count, dtype: float64\n",
      "291694    0.0\n",
      "Name: count, dtype: float64\n",
      "292811    0.0\n",
      "Name: count, dtype: float64\n",
      "295162    0.0\n",
      "Name: count, dtype: float64\n",
      "297493    0.0\n",
      "Name: count, dtype: float64\n",
      "302461    0.0\n",
      "Name: count, dtype: float64\n",
      "319769    0.0\n",
      "Name: count, dtype: float64\n",
      "327177    0.0\n",
      "Name: count, dtype: float64\n",
      "333941    0.0\n",
      "Name: count, dtype: float64\n",
      "340356    0.0\n",
      "Name: count, dtype: float64\n",
      "358865    0.0\n",
      "Name: count, dtype: float64\n",
      "361319    0.0\n",
      "Name: count, dtype: float64\n",
      "364330    0.0\n",
      "Name: count, dtype: float64\n",
      "377472    0.0\n",
      "Name: count, dtype: float64\n",
      "383792    0.0\n",
      "Name: count, dtype: float64\n",
      "383851    0.0\n",
      "Name: count, dtype: float64\n",
      "390420    0.0\n",
      "Name: count, dtype: float64\n",
      "393343    0.0\n",
      "Name: count, dtype: float64\n",
      "395509    0.0\n",
      "Name: count, dtype: float64\n",
      "398227    0.0\n",
      "Name: count, dtype: float64\n",
      "402953    0.0\n",
      "Name: count, dtype: float64\n",
      "403322    0.0\n",
      "Name: count, dtype: float64\n",
      "407726    0.0\n",
      "Name: count, dtype: float64\n",
      "410110    0.0\n",
      "Name: count, dtype: float64\n",
      "415079    0.0\n",
      "Name: count, dtype: float64\n",
      "422438    0.0\n",
      "Name: count, dtype: float64\n",
      "424170    0.0\n",
      "Name: count, dtype: float64\n",
      "425408    0.0\n",
      "Name: count, dtype: float64\n",
      "425823    0.0\n",
      "Name: count, dtype: float64\n",
      "425903    0.0\n",
      "Name: count, dtype: float64\n",
      "425988    0.0\n",
      "Name: count, dtype: float64\n",
      "426096    0.0\n",
      "Name: count, dtype: float64\n",
      "426407    0.0\n",
      "Name: count, dtype: float64\n",
      "431306    0.0\n",
      "Name: count, dtype: float64\n",
      "440999    0.0\n",
      "Name: count, dtype: float64\n",
      "441980    0.0\n",
      "Name: count, dtype: float64\n",
      "442181    0.0\n",
      "Name: count, dtype: float64\n",
      "444080    0.0\n",
      "Name: count, dtype: float64\n",
      "444967    0.0\n",
      "Name: count, dtype: float64\n",
      "450137    0.0\n",
      "Name: count, dtype: float64\n",
      "453515    0.0\n",
      "Name: count, dtype: float64\n"
     ]
    }
   ],
   "source": [
    "for x in np.setdiff1d(list_a,list_b):\n",
    "    print(origin[origin['id']==x]['count'])"
   ]
  },
  {
   "cell_type": "code",
   "execution_count": 15,
   "metadata": {},
   "outputs": [
    {
     "data": {
      "text/plain": [
       "(459976, 11)"
      ]
     },
     "execution_count": 15,
     "metadata": {},
     "output_type": "execute_result"
    }
   ],
   "source": [
    "origin.shape"
   ]
  },
  {
   "cell_type": "code",
   "execution_count": 16,
   "metadata": {},
   "outputs": [
    {
     "data": {
      "text/plain": [
       "(459896, 12)"
      ]
     },
     "execution_count": 16,
     "metadata": {},
     "output_type": "execute_result"
    }
   ],
   "source": [
    "store.shape"
   ]
  },
  {
   "cell_type": "code",
   "execution_count": null,
   "metadata": {},
   "outputs": [],
   "source": [
    "store.head()"
   ]
  },
  {
   "cell_type": "code",
   "execution_count": 26,
   "metadata": {},
   "outputs": [
    {
     "data": {
      "text/html": [
       "<div>\n",
       "<style scoped>\n",
       "    .dataframe tbody tr th:only-of-type {\n",
       "        vertical-align: middle;\n",
       "    }\n",
       "\n",
       "    .dataframe tbody tr th {\n",
       "        vertical-align: top;\n",
       "    }\n",
       "\n",
       "    .dataframe thead th {\n",
       "        text-align: right;\n",
       "    }\n",
       "</style>\n",
       "<table border=\"1\" class=\"dataframe\">\n",
       "  <thead>\n",
       "    <tr style=\"text-align: right;\">\n",
       "      <th></th>\n",
       "      <th>id</th>\n",
       "      <th>store_name</th>\n",
       "      <th>branch</th>\n",
       "      <th>area</th>\n",
       "      <th>tel</th>\n",
       "      <th>address</th>\n",
       "      <th>latitude</th>\n",
       "      <th>longitude</th>\n",
       "      <th>category</th>\n",
       "      <th>total</th>\n",
       "      <th>count</th>\n",
       "      <th>addr</th>\n",
       "    </tr>\n",
       "  </thead>\n",
       "  <tbody>\n",
       "    <tr>\n",
       "      <th>1</th>\n",
       "      <td>2</td>\n",
       "      <td>Assisy</td>\n",
       "      <td>NaN</td>\n",
       "      <td>광주</td>\n",
       "      <td>062-367-0700</td>\n",
       "      <td>광주광역시 서구 농성동 631-33</td>\n",
       "      <td>35.1507</td>\n",
       "      <td>126.89</td>\n",
       "      <td>카페</td>\n",
       "      <td>0.0</td>\n",
       "      <td>0.0</td>\n",
       "      <td>광주광역시</td>\n",
       "    </tr>\n",
       "  </tbody>\n",
       "</table>\n",
       "</div>"
      ],
      "text/plain": [
       "   id store_name branch area           tel              address latitude  \\\n",
       "1   2     Assisy    NaN   광주  062-367-0700  광주광역시 서구 농성동 631-33  35.1507   \n",
       "\n",
       "  longitude category  total  count   addr  \n",
       "1    126.89       카페    0.0    0.0  광주광역시  "
      ]
     },
     "execution_count": 26,
     "metadata": {},
     "output_type": "execute_result"
    }
   ],
   "source": [
    "store.loc[store['id']==2]"
   ]
  },
  {
   "cell_type": "code",
   "execution_count": null,
   "metadata": {},
   "outputs": [],
   "source": []
  }
 ],
 "metadata": {
  "kernelspec": {
   "display_name": "Python 3",
   "language": "python",
   "name": "python3"
  },
  "language_info": {
   "codemirror_mode": {
    "name": "ipython",
    "version": 3
   },
   "file_extension": ".py",
   "mimetype": "text/x-python",
   "name": "python",
   "nbconvert_exporter": "python",
   "pygments_lexer": "ipython3",
   "version": "3.7.6"
  }
 },
 "nbformat": 4,
 "nbformat_minor": 4
}
